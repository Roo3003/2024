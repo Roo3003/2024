{
 "cells": [
  {
   "cell_type": "code",
   "execution_count": 23,
   "metadata": {},
   "outputs": [],
   "source": [
    "# Import class files\n",
    "\n",
    "import sys\n",
    "import os\n",
    "parent_dir = os.path.abspath(os.path.join(os.getcwd(), os.pardir))\n",
    "sys.path.append(parent_dir)"
   ]
  },
  {
   "cell_type": "code",
   "execution_count": 24,
   "metadata": {},
   "outputs": [],
   "source": [
    "import re\n",
    "\n",
    "example = open('example.txt', 'r').read()\n",
    "puzzle = open('puzzle.txt', 'r').read()\n",
    "\n",
    "input = puzzle"
   ]
  },
  {
   "cell_type": "markdown",
   "metadata": {},
   "source": [
    "# Part 1"
   ]
  },
  {
   "cell_type": "code",
   "execution_count": 25,
   "metadata": {},
   "outputs": [],
   "source": [
    "def is_towel_possible(request, patterns):\n",
    "    '''\n",
    "    Returns True if request can be constructed from towel patterns available and False otherwise\n",
    "    patterns: set(str)\n",
    "    request: str\n",
    "    '''\n",
    "\n",
    "    if not request:\n",
    "        return True\n",
    "\n",
    "    for pattern in patterns:\n",
    "        if request.startswith(pattern):\n",
    "            smaller_towel = request[len(pattern):]\n",
    "            possible = is_towel_possible(smaller_towel, patterns)\n",
    "            if possible:\n",
    "                return True\n",
    "            #print(request, pattern, smaller_towel)\n",
    "\n",
    "\n",
    "    return False"
   ]
  },
  {
   "cell_type": "code",
   "execution_count": 26,
   "metadata": {},
   "outputs": [
    {
     "data": {
      "text/plain": [
       "240"
      ]
     },
     "execution_count": 26,
     "metadata": {},
     "output_type": "execute_result"
    }
   ],
   "source": [
    "patterns_info, requests_info = input.split('\\n\\n')\n",
    "patterns = set([x[0] if x[0] else x[1] for x in re.findall(r'([a-z]+),|([a-z]+)$',patterns_info)])\n",
    "requests = requests_info.split('\\n')\n",
    "\n",
    "possible_count = 0\n",
    "for request in requests:\n",
    "    if is_towel_possible(request, patterns):\n",
    "        possible_count += 1\n",
    "possible_count\n",
    "    "
   ]
  },
  {
   "cell_type": "markdown",
   "metadata": {},
   "source": [
    "# Part 2"
   ]
  },
  {
   "cell_type": "code",
   "execution_count": 27,
   "metadata": {},
   "outputs": [],
   "source": [
    "def is_towel_possible(request, patterns, count=0, depth=0, seen_possible={'': 1}, seen_impossible=set()):\n",
    "    '''\n",
    "    Returns number of possible constructions of the request (if any), given the available patterns\n",
    "    patterns: set(str)\n",
    "    request: str\n",
    "    '''\n",
    "\n",
    "    # if not depth:\n",
    "    #     print(f'request: {request}')\n",
    "\n",
    "    if not request:\n",
    "        return count+1\n",
    "\n",
    "    for pattern in patterns:\n",
    "        if request.startswith(pattern):\n",
    "            smaller_towel = request[len(pattern):]\n",
    "\n",
    "            # Use memorisation to reduce search space\n",
    "            if smaller_towel in seen_possible:\n",
    "                #print('skipping early possible', smaller_towel, seen_possible[smaller_towel], seen_possible)\n",
    "                count += seen_possible[smaller_towel]\n",
    "                continue\n",
    "            elif smaller_towel in seen_impossible:\n",
    "                #print('skipping early impossible')\n",
    "                continue\n",
    "\n",
    "            unique_towels, possibles, impossibles = is_towel_possible(\n",
    "                smaller_towel, patterns, depth=depth+1, seen_possible=seen_possible, seen_impossible=seen_impossible)\n",
    "            \n",
    "            seen_possible.update(possibles)\n",
    "            seen_impossible = seen_impossible.union(impossibles)\n",
    "            \n",
    "            count += unique_towels\n",
    "\n",
    "    if count:\n",
    "        seen_possible[request] = count\n",
    "    else:\n",
    "        seen_impossible.add(request)\n",
    "\n",
    "    return (count, seen_possible.copy(), seen_impossible)"
   ]
  },
  {
   "cell_type": "code",
   "execution_count": 28,
   "metadata": {},
   "outputs": [
    {
     "data": {
      "text/plain": [
       "848076019766013"
      ]
     },
     "execution_count": 28,
     "metadata": {},
     "output_type": "execute_result"
    }
   ],
   "source": [
    "patterns_info, requests_info = input.split('\\n\\n')\n",
    "patterns = set([x[0] if x[0] else x[1] for x in re.findall(r'([a-z]+),|([a-z]+)$',patterns_info)])\n",
    "requests = requests_info.split('\\n')\n",
    "\n",
    "seen_possible = {'': 1}\n",
    "seen_impossible = set()\n",
    "\n",
    "total_unique_towels = 0\n",
    "for request in requests:\n",
    "    unique_towels, possibles, impossibles = is_towel_possible(\n",
    "        request, patterns, seen_possible=seen_possible, seen_impossible=seen_impossible)\n",
    "    total_unique_towels += unique_towels\n",
    "    \n",
    "    seen_impossible = seen_impossible.union(impossibles)\n",
    "    #print('\\n\\n')\n",
    "    \n",
    "total_unique_towels\n",
    "    "
   ]
  },
  {
   "cell_type": "code",
   "execution_count": null,
   "metadata": {},
   "outputs": [],
   "source": []
  }
 ],
 "metadata": {
  "kernelspec": {
   "display_name": "Python 3",
   "language": "python",
   "name": "python3"
  },
  "language_info": {
   "codemirror_mode": {
    "name": "ipython",
    "version": 3
   },
   "file_extension": ".py",
   "mimetype": "text/x-python",
   "name": "python",
   "nbconvert_exporter": "python",
   "pygments_lexer": "ipython3",
   "version": "3.13.1"
  }
 },
 "nbformat": 4,
 "nbformat_minor": 2
}
