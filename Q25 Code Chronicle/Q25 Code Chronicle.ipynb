{
 "cells": [
  {
   "cell_type": "code",
   "execution_count": 43,
   "metadata": {},
   "outputs": [],
   "source": [
    "# Import class files\n",
    "\n",
    "import sys\n",
    "import os\n",
    "parent_dir = os.path.abspath(os.path.join(os.getcwd(), os.pardir))\n",
    "sys.path.append(parent_dir)"
   ]
  },
  {
   "cell_type": "code",
   "execution_count": 44,
   "metadata": {},
   "outputs": [],
   "source": [
    "example = open('example.txt', 'r').read()\n",
    "puzzle = open('puzzle.txt', 'r').read()\n",
    "\n",
    "input = puzzle"
   ]
  },
  {
   "cell_type": "markdown",
   "metadata": {},
   "source": [
    "# Part 1"
   ]
  },
  {
   "cell_type": "code",
   "execution_count": 45,
   "metadata": {},
   "outputs": [],
   "source": [
    "def get_heights(schematic):\n",
    "    '''\n",
    "    Returns the list of heights in the schematic\n",
    "    '''\n",
    "\n",
    "    # Determine whether lock or key\n",
    "    is_lock = False\n",
    "    if all([x == '#' for x in schematic[0]]):\n",
    "        is_lock = True\n",
    "\n",
    "    num_rows, num_cols = len(schematic), len(schematic[0])\n",
    "\n",
    "    # Initialise heights\n",
    "    heights = [-1]*num_cols\n",
    "\n",
    "    for col in range(num_cols):\n",
    "        for row in range(num_rows):\n",
    "            if is_lock:\n",
    "                if schematic[row][col] == '#':\n",
    "                    heights[col] += 1\n",
    "                else:\n",
    "                    break\n",
    "            else:\n",
    "                if schematic[row*-1 - 1][col] == '#':\n",
    "                    heights[col] += 1\n",
    "\n",
    "    return heights\n",
    "\n",
    "\n"
   ]
  },
  {
   "cell_type": "code",
   "execution_count": 46,
   "metadata": {},
   "outputs": [
    {
     "data": {
      "text/plain": [
       "3155"
      ]
     },
     "execution_count": 46,
     "metadata": {},
     "output_type": "execute_result"
    }
   ],
   "source": [
    "schematics = [x.split('\\n') for x in input.split('\\n\\n')]\n",
    "\n",
    "locks = []\n",
    "keys = []\n",
    "\n",
    "num_rows, num_cols = len(schematics[0]), len(schematics[0][0])\n",
    "\n",
    "for schematic in schematics:\n",
    "    if all([x == '#' for x in schematic[0]]):\n",
    "        locks.append(schematic)\n",
    "    else:\n",
    "        keys.append(schematic)\n",
    "\n",
    "\n",
    "\n",
    "fit_counter = 0\n",
    "for lock in locks:\n",
    "    for key in keys:\n",
    "        lock_heights = get_heights(lock)\n",
    "        key_heights = get_heights(key)\n",
    "        combined = [sum(x) for x in zip(lock_heights,key_heights)]\n",
    "        if not any([x > num_rows-2 for x in combined]):\n",
    "            fit_counter += 1\n",
    "\n",
    "fit_counter\n",
    "\n"
   ]
  }
 ],
 "metadata": {
  "kernelspec": {
   "display_name": "Python 3",
   "language": "python",
   "name": "python3"
  },
  "language_info": {
   "codemirror_mode": {
    "name": "ipython",
    "version": 3
   },
   "file_extension": ".py",
   "mimetype": "text/x-python",
   "name": "python",
   "nbconvert_exporter": "python",
   "pygments_lexer": "ipython3",
   "version": "3.13.0"
  }
 },
 "nbformat": 4,
 "nbformat_minor": 2
}
