{
 "cells": [
  {
   "cell_type": "markdown",
   "metadata": {},
   "source": [
    "# Part 1"
   ]
  },
  {
   "cell_type": "code",
   "execution_count": 67,
   "metadata": {},
   "outputs": [],
   "source": [
    "example = open('example.txt', 'r').read()\n",
    "puzzle = open('puzzle.txt', 'r').read()"
   ]
  },
  {
   "cell_type": "code",
   "execution_count": null,
   "metadata": {},
   "outputs": [
    {
     "data": {
      "text/plain": [
       "411"
      ]
     },
     "execution_count": 59,
     "metadata": {},
     "output_type": "execute_result"
    }
   ],
   "source": [
    "input = puzzle\n",
    "reports = input.split('\\n')\n",
    "\n",
    "\n",
    "num_safe_reports = 0\n",
    "\n",
    "for report in reports:\n",
    "\n",
    "    # Get levels\n",
    "    levels = list(map(int,report.split(' ')))\n",
    "\n",
    "    # initialise safe as true\n",
    "    safe = True\n",
    "\n",
    "    # Increasing/decreasing?\n",
    "    increasing = True\n",
    "    if levels[1] < levels[0]:\n",
    "        increasing = False\n",
    "    \n",
    "    n = len(levels)\n",
    "    cur_level = levels[0]\n",
    "\n",
    "    for i in range(n-1):\n",
    "        cur_level = levels[i]\n",
    "        next_level = levels[i+1]\n",
    "\n",
    "        # all increasing/decreasing?\n",
    "        if next_level > cur_level and (not increasing):\n",
    "            safe = False\n",
    "            break\n",
    "        elif next_level < cur_level and increasing:\n",
    "            safe = False\n",
    "            break\n",
    "\n",
    "        # moves by 1-3?\n",
    "        diff = abs(int(next_level) - int(cur_level))\n",
    "        if not diff in [1,2,3]:\n",
    "            safe = False\n",
    "            break\n",
    "    \n",
    "    if safe:\n",
    "        num_safe_reports += 1\n",
    "\n",
    "num_safe_reports"
   ]
  },
  {
   "cell_type": "markdown",
   "metadata": {},
   "source": [
    "# Part 2"
   ]
  },
  {
   "cell_type": "code",
   "execution_count": 85,
   "metadata": {},
   "outputs": [
    {
     "data": {
      "text/plain": [
       "411"
      ]
     },
     "execution_count": 85,
     "metadata": {},
     "output_type": "execute_result"
    }
   ],
   "source": [
    "# Convert part 1 to a function that gives true/false for single report\n",
    "\n",
    "\n",
    "input = puzzle\n",
    "reports = input.split('\\n')\n",
    "\n",
    "\n",
    "def is_report_safe(report):\n",
    "    '''\n",
    "    True/False output on safety for a single report\n",
    "\n",
    "    format for input is a list of ints\n",
    "    '''\n",
    "\n",
    "    levels = report\n",
    "\n",
    "    # initialise safe as true\n",
    "    safe = True\n",
    "\n",
    "    # Increasing/decreasing?\n",
    "    increasing = True\n",
    "    if levels[1] < levels[0]:\n",
    "        increasing = False\n",
    "    \n",
    "    n = len(levels)\n",
    "    cur_level = levels[0]\n",
    "\n",
    "    for i in range(n-1):\n",
    "        cur_level = levels[i]\n",
    "        next_level = levels[i+1]\n",
    "\n",
    "        # all increasing/decreasing?\n",
    "        if next_level > cur_level and (not increasing):\n",
    "            safe = False\n",
    "        elif next_level < cur_level and increasing:\n",
    "            safe = False\n",
    "\n",
    "        # moves by 1-3?\n",
    "        diff = abs(int(next_level) - int(cur_level))\n",
    "        if not diff in [1,2,3]:\n",
    "            safe = False\n",
    "    \n",
    "    if safe:\n",
    "        return True\n",
    "    \n",
    "    return False\n",
    "\n",
    "safe_reports = []\n",
    "for report in reports:\n",
    "    levels = list(map(int,report.split(' ')))\n",
    "    safe_reports.append(is_report_safe(levels))\n",
    "\n",
    "sum(safe_reports)"
   ]
  },
  {
   "cell_type": "code",
   "execution_count": 92,
   "metadata": {},
   "outputs": [
    {
     "data": {
      "text/plain": [
       "465"
      ]
     },
     "execution_count": 92,
     "metadata": {},
     "output_type": "execute_result"
    }
   ],
   "source": [
    "num_safe_reports = 0\n",
    "\n",
    "for report in reports:\n",
    "    levels = list(map(int,report.split(' ')))\n",
    "    \n",
    "    n = len(levels)\n",
    "    # Is the report already safe?\n",
    "    if is_report_safe(levels):\n",
    "        num_safe_reports += 1\n",
    "        continue\n",
    "    else:\n",
    "        # Go through all possible level removals for this report\n",
    "        safe_found = False\n",
    "        for i in range(n):\n",
    "            new_levels = levels[:i] + levels[i+1:]\n",
    "            if is_report_safe(new_levels):\n",
    "                safe_found = True\n",
    "                break\n",
    "        \n",
    "        if safe_found:\n",
    "            num_safe_reports += 1\n",
    "\n",
    "num_safe_reports\n",
    "\n"
   ]
  }
 ],
 "metadata": {
  "kernelspec": {
   "display_name": "Python 3",
   "language": "python",
   "name": "python3"
  },
  "language_info": {
   "codemirror_mode": {
    "name": "ipython",
    "version": 3
   },
   "file_extension": ".py",
   "mimetype": "text/x-python",
   "name": "python",
   "nbconvert_exporter": "python",
   "pygments_lexer": "ipython3",
   "version": "3.13.0"
  }
 },
 "nbformat": 4,
 "nbformat_minor": 2
}
