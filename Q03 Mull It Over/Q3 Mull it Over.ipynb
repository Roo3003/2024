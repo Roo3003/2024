{
 "cells": [
  {
   "cell_type": "markdown",
   "metadata": {},
   "source": [
    "# Part 1"
   ]
  },
  {
   "cell_type": "code",
   "execution_count": 1,
   "metadata": {},
   "outputs": [],
   "source": [
    "example = open('example.txt', 'r').read()\n",
    "puzzle = open('puzzle.txt', 'r').read()\n",
    "\n",
    "input = puzzle\n",
    "#input"
   ]
  },
  {
   "cell_type": "code",
   "execution_count": 2,
   "metadata": {},
   "outputs": [
    {
     "data": {
      "text/plain": [
       "183788984"
      ]
     },
     "execution_count": 2,
     "metadata": {},
     "output_type": "execute_result"
    }
   ],
   "source": [
    "import re\n",
    "\n",
    "# Will use regex for part 1, looking for exact matches to given format\n",
    "memory = input\n",
    "\n",
    "mul_commands = re.findall(r'mul\\(\\d{1,3},\\d{1,3}\\)',memory)\n",
    "mul_commands\n",
    "\n",
    "count = 0\n",
    "for command in mul_commands:\n",
    "    num1, num2 = map(int,(re.findall(r'\\d{1,3}', command)))\n",
    "    count += num1*num2\n",
    "\n",
    "count\n"
   ]
  },
  {
   "cell_type": "markdown",
   "metadata": {},
   "source": [
    "# Part 2"
   ]
  },
  {
   "cell_type": "code",
   "execution_count": 3,
   "metadata": {},
   "outputs": [],
   "source": [
    "example = open('example.txt', 'r').read()\n",
    "example_part2 = open('example_part2.txt', 'r').read()\n",
    "puzzle = open('puzzle.txt', 'r').read()\n",
    "\n",
    "input = puzzle\n",
    "#input"
   ]
  },
  {
   "cell_type": "code",
   "execution_count": 4,
   "metadata": {},
   "outputs": [
    {
     "data": {
      "text/plain": [
       "62098619"
      ]
     },
     "execution_count": 4,
     "metadata": {},
     "output_type": "execute_result"
    }
   ],
   "source": [
    "import re\n",
    "\n",
    "# Can use regex for part 2 as well, and just iterate through the list\n",
    "memory = input\n",
    "\n",
    "# Change to pick up the do()'s and don't()'s\n",
    "mul_commands = re.findall(r'mul\\(\\d{1,3},\\d{1,3}\\)|do\\(\\)|don\\'t\\(\\)',memory)\n",
    "mul_commands\n",
    "\n",
    "do_commands = True\n",
    "\n",
    "count = 0\n",
    "\n",
    "for command in mul_commands:\n",
    "    # Toggle commands on/off on do/don't\n",
    "    if command == 'do()':\n",
    "        do_commands = True\n",
    "    elif command == 'don\\'t()':\n",
    "        do_commands = False\n",
    "    else:\n",
    "        num1, num2 = map(int,(re.findall(r'\\d{1,3}', command)))\n",
    "        if do_commands:\n",
    "            count += num1*num2\n",
    "    \n",
    "count"
   ]
  },
  {
   "cell_type": "code",
   "execution_count": null,
   "metadata": {},
   "outputs": [],
   "source": []
  },
  {
   "cell_type": "code",
   "execution_count": null,
   "metadata": {},
   "outputs": [],
   "source": []
  },
  {
   "cell_type": "code",
   "execution_count": null,
   "metadata": {},
   "outputs": [],
   "source": []
  }
 ],
 "metadata": {
  "kernelspec": {
   "display_name": "Python 3",
   "language": "python",
   "name": "python3"
  },
  "language_info": {
   "codemirror_mode": {
    "name": "ipython",
    "version": 3
   },
   "file_extension": ".py",
   "mimetype": "text/x-python",
   "name": "python",
   "nbconvert_exporter": "python",
   "pygments_lexer": "ipython3",
   "version": "3.13.0"
  }
 },
 "nbformat": 4,
 "nbformat_minor": 2
}
