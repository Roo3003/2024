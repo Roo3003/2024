{
 "cells": [
  {
   "cell_type": "code",
   "execution_count": 165,
   "metadata": {},
   "outputs": [],
   "source": [
    "# Import class files\n",
    "\n",
    "import sys\n",
    "import os\n",
    "parent_dir = os.path.abspath(os.path.join(os.getcwd(), os.pardir))\n",
    "sys.path.append(parent_dir)"
   ]
  },
  {
   "cell_type": "code",
   "execution_count": 166,
   "metadata": {},
   "outputs": [],
   "source": [
    "import re\n",
    "\n",
    "example = open('example.txt', 'r').read()\n",
    "puzzle = open('puzzle.txt', 'r').read()\n",
    "\n",
    "input = puzzle"
   ]
  },
  {
   "cell_type": "markdown",
   "metadata": {},
   "source": [
    "# Part 1"
   ]
  },
  {
   "cell_type": "code",
   "execution_count": 167,
   "metadata": {},
   "outputs": [],
   "source": [
    "class Computer():\n",
    "    def __init__(self,a,b,c,instructions):\n",
    "        # Registers\n",
    "        self.a = a\n",
    "        self.b = b\n",
    "        self.c = c\n",
    "\n",
    "        # Instructions\n",
    "        self.instructions = [int(x) for x in instructions if x != ',']\n",
    "        \n",
    "        # Misc\n",
    "        self.num_instructions = len(self.instructions)\n",
    "        self.instr_pointer = 0\n",
    "        self.instr = int(instructions[0])\n",
    "        self.operand = int(instructions[2])\n",
    "        self.outputs = []\n",
    "    \n",
    "    def print_regs(self):\n",
    "        '''\n",
    "        Prints current register values for debugging purposes\n",
    "        '''\n",
    "        print(f'A={self.a}\\nB={self.b}\\nC={self.c}\\n')\n",
    "    \n",
    "    def combo_operand(self, operand):\n",
    "        '''\n",
    "        Returns combo value of given operand\n",
    "        '''\n",
    "        match operand:\n",
    "            case 0 | 1 | 2 | 3:\n",
    "                combo = operand\n",
    "            case 4:\n",
    "                combo = self.a\n",
    "            case 5:\n",
    "                combo = self.b\n",
    "            case 6:\n",
    "                combo = self.c\n",
    "            case 7:\n",
    "                raise(ValueError('Operand cannot be 7 in adv'))\n",
    "            \n",
    "        return combo\n",
    "    \n",
    "    def adv(self, operand):\n",
    "        '''\n",
    "        Register A = register A // 2^(combo operand)\n",
    "        '''\n",
    "        denom_power = self.combo_operand(operand)\n",
    "        \n",
    "        self.a = self.a // (2**denom_power)\n",
    "    \n",
    "    def bxl(self, operand):\n",
    "        '''\n",
    "        Register B = Bitwise XOR of register B and literal operand\n",
    "        '''\n",
    "        self.b = self.b ^ operand\n",
    "    \n",
    "    def bst(self, operand):\n",
    "        '''\n",
    "        Register B = combo operand mod 8\n",
    "        '''\n",
    "        self.b = self.combo_operand(operand) % 8\n",
    "    \n",
    "    def jnz(self, operand):\n",
    "        '''\n",
    "        Does nothing if register A = 0, else 'jumps' by setting instruction pointer to literal operand\n",
    "        '''\n",
    "        if self.a:\n",
    "            self.instr_pointer = operand\n",
    "    \n",
    "    def bxc(self, operand):\n",
    "        '''\n",
    "        Register B = Bitwise XOR of Registers B and C\n",
    "        '''\n",
    "        self.b = self.b ^ self.c\n",
    "    \n",
    "    def out(self, operand):\n",
    "        '''\n",
    "        Outputs value(s) of combo operand modulo 8\n",
    "        '''\n",
    "        self.outputs.append((''.join([x+',' for x in (str(self.combo_operand(operand) % 8))]))[:-1])\n",
    "\n",
    "    def bdv(self, operand):\n",
    "        '''\n",
    "        Register B = register A // 2^(combo operand)\n",
    "        '''\n",
    "        denom_power = self.combo_operand(operand)\n",
    "        \n",
    "        self.b = self.a // (2**denom_power)\n",
    "\n",
    "    def cdv(self, operand):\n",
    "        '''\n",
    "        Register C = register A // 2^(combo operand)\n",
    "        '''\n",
    "        denom_power = self.combo_operand(operand)\n",
    "        \n",
    "        self.c = self.a // (2**denom_power)\n",
    "    \n",
    "    def read_program(self):\n",
    "        '''\n",
    "        Applies the instructions given by the program\n",
    "        '''\n",
    "        functions = [self.adv, self.bxl, self.bst, self.jnz, self.bxc, self.out, self.bdv, self.cdv]\n",
    "\n",
    "        while (self.instr_pointer < self.num_instructions-1):\n",
    "            self.instr = self.instructions[self.instr_pointer]\n",
    "            self.operand = self.instructions[self.instr_pointer+1]\n",
    "\n",
    "            fn = functions[self.instr]\n",
    "\n",
    "            fn(self.operand)\n",
    "\n",
    "            #self.print_regs()\n",
    "\n",
    "            if self.instr != 3 or (self.instr == 3 and self.a == 0):\n",
    "                self.instr_pointer += 2\n",
    "            \n",
    "    \n",
    "\n",
    "        "
   ]
  },
  {
   "cell_type": "code",
   "execution_count": 168,
   "metadata": {},
   "outputs": [
    {
     "data": {
      "text/plain": [
       "'7,1,3,7,5,1,0,3,4'"
      ]
     },
     "execution_count": 168,
     "metadata": {},
     "output_type": "execute_result"
    }
   ],
   "source": [
    "reg_info, program_info = input.split('\\n\\n')\n",
    "a_info, b_info, c_info = reg_info.split('\\n')\n",
    "\n",
    "a_init = int(re.findall(r': (\\d*)', a_info)[0])\n",
    "b_init = int(re.findall(r': (\\d*)', b_info)[0])\n",
    "c_init = int(re.findall(r': (\\d*)', c_info)[0])\n",
    "instructions_init = re.findall(r': ([\\d,]*)', program_info)[0]\n",
    "\n",
    "computer = Computer(a_init,b_init,c_init,instructions_init)\n",
    "computer.read_program()\n",
    "','.join(computer.outputs)\n"
   ]
  },
  {
   "cell_type": "markdown",
   "metadata": {},
   "source": [
    "# Part 2"
   ]
  },
  {
   "cell_type": "code",
   "execution_count": 169,
   "metadata": {},
   "outputs": [],
   "source": [
    "reg_info, program_info = input.split('\\n\\n')\n",
    "a_info, b_info, c_info = reg_info.split('\\n')\n",
    "\n",
    "a_init = int(re.findall(r': (\\d*)', a_info)[0])\n",
    "b_init = int(re.findall(r': (\\d*)', b_info)[0])\n",
    "c_init = int(re.findall(r': (\\d*)', c_info)[0])\n",
    "instructions_init = re.findall(r': ([\\d,]*)', program_info)[0]"
   ]
  },
  {
   "cell_type": "markdown",
   "metadata": {},
   "source": [
    "Analysing the puzzle input's instructions, the outputs come from the following procedure:\n",
    "\n",
    "- Take the last 3 bits of A\n",
    "- Swap the middle bit\n",
    "- Swap the bits with XYZ, where X,Y,Z are the (B-3 -> Bth) last respectively bits of A\n",
    "- Swap every bit\n",
    "\n",
    "Then remove last 3 bits of A and repeat procedure again\n",
    "\n",
    "We can work out the binary digits if we work from the last output backwards (since for the last output we know XYZ = 000). Still need to iterate through every value but this reduces the seach space to just the numbers 1-8 for each output."
   ]
  },
  {
   "cell_type": "code",
   "execution_count": 170,
   "metadata": {},
   "outputs": [
    {
     "data": {
      "text/plain": [
       "190384113204239"
      ]
     },
     "execution_count": 170,
     "metadata": {},
     "output_type": "execute_result"
    }
   ],
   "source": [
    "reversed_outputs = [int(x) for x in re.findall(r'\\d',instructions_init)]\n",
    "reversed_outputs.reverse()\n",
    "\n",
    "bin_str = '00000000'\n",
    "\n",
    "for desired_output in reversed_outputs:\n",
    "    for num in range(8):\n",
    "        bin_num_str= format(num, '03b')\n",
    "        cur_bin_str = bin_str+bin_num_str\n",
    "        cur_a = int(cur_bin_str,2)\n",
    "\n",
    "        computer = Computer(cur_a,b_init,c_init,instructions_init)\n",
    "        computer.read_program()\n",
    "        #print(computer.outputs)\n",
    "        if computer.outputs[0] == str(desired_output):\n",
    "            bin_str += bin_num_str\n",
    "            break\n",
    "    #print('\\n')\n",
    "        \n",
    "int(bin_str,2)"
   ]
  },
  {
   "cell_type": "code",
   "execution_count": null,
   "metadata": {},
   "outputs": [],
   "source": [
    "# Check:\n",
    "\n",
    "cur_a = 190384113204239\n",
    "computer = Computer(cur_a,b_init,c_init,instructions_init)\n",
    "computer.read_program()\n",
    "#print(','.join(computer.outputs))"
   ]
  }
 ],
 "metadata": {
  "kernelspec": {
   "display_name": "Python 3",
   "language": "python",
   "name": "python3"
  },
  "language_info": {
   "codemirror_mode": {
    "name": "ipython",
    "version": 3
   },
   "file_extension": ".py",
   "mimetype": "text/x-python",
   "name": "python",
   "nbconvert_exporter": "python",
   "pygments_lexer": "ipython3",
   "version": "3.13.0"
  }
 },
 "nbformat": 4,
 "nbformat_minor": 2
}
