{
 "cells": [
  {
   "cell_type": "code",
   "execution_count": 137,
   "metadata": {},
   "outputs": [],
   "source": [
    "# Import class files\n",
    "\n",
    "import sys\n",
    "import os\n",
    "parent_dir = os.path.abspath(os.path.join(os.getcwd(), os.pardir))\n",
    "sys.path.append(parent_dir)"
   ]
  },
  {
   "cell_type": "code",
   "execution_count": 138,
   "metadata": {},
   "outputs": [],
   "source": [
    "from tqdm import tqdm\n",
    "\n",
    "example = open('example.txt', 'r').read()\n",
    "puzzle = open('puzzle.txt', 'r').read()\n",
    "\n",
    "input = puzzle"
   ]
  },
  {
   "cell_type": "markdown",
   "metadata": {},
   "source": [
    "# Part 1"
   ]
  },
  {
   "cell_type": "code",
   "execution_count": 139,
   "metadata": {},
   "outputs": [
    {
     "name": "stderr",
     "output_type": "stream",
     "text": [
      "Finding groups of 3... : 100%|██████████| 520/520 [00:08<00:00, 60.90it/s] \n"
     ]
    },
    {
     "data": {
      "text/plain": [
       "1370"
      ]
     },
     "execution_count": 139,
     "metadata": {},
     "output_type": "execute_result"
    }
   ],
   "source": [
    "local_network_map = input.split('\\n')\n",
    "\n",
    "local_network_map\n",
    "\n",
    "# Initialise computer connections - store a set of all pcs as well as\n",
    "# a hashmap of connections (key=computer, val=set of pcs connected to it)\n",
    "all_computers = set()\n",
    "connections = {}\n",
    "\n",
    "for connection in local_network_map:\n",
    "    computer1, computer2 = connection.split('-')\n",
    "    for computer in [computer1, computer2]:\n",
    "        if computer not in all_computers:\n",
    "            all_computers.add(computer)\n",
    "        if computer not in connections:\n",
    "            connections[computer] = set([x for x in [computer1, computer2] if x != computer])\n",
    "        else:\n",
    "            connections[computer] = connections[computer].union(set([x for x in [computer1, computer2] if x != computer]))\n",
    "\n",
    "#connections\n",
    "\n",
    "# Find groups of 3\n",
    "\n",
    "found_groups = []\n",
    "\n",
    "for comp1 in tqdm(connections, desc='Finding groups of 3... '):\n",
    "    comp1_connections = connections[comp1]\n",
    "    for comp2 in comp1_connections:\n",
    "        comp2_connections = connections[comp2]\n",
    "        commons = comp1_connections.intersection(comp2_connections)\n",
    "        for comp3 in commons:\n",
    "            group  = set([comp1, comp2, comp3])\n",
    "            if group not in found_groups:\n",
    "                found_groups.append(group)\n",
    "\n",
    "# Find number of t groups\n",
    "\n",
    "number_of_ts = 0\n",
    "\n",
    "for group in found_groups:\n",
    "    for comp in group:\n",
    "        if comp[0] == 't':\n",
    "            #print(group)\n",
    "            number_of_ts += 1\n",
    "            break\n",
    "\n",
    "number_of_ts"
   ]
  },
  {
   "cell_type": "markdown",
   "metadata": {},
   "source": [
    "# Part 2"
   ]
  },
  {
   "cell_type": "code",
   "execution_count": 140,
   "metadata": {},
   "outputs": [],
   "source": [
    "local_network_map = input.split('\\n')\n",
    "\n",
    "local_network_map\n",
    "\n",
    "# Initialise computer connections - store a set of all pcs as well as\n",
    "# a hashmap of connections (key=computer, val=set of pcs connected to it)\n",
    "all_computers = set()\n",
    "connections = {}\n",
    "\n",
    "for connection in local_network_map:\n",
    "    computer1, computer2 = connection.split('-')\n",
    "    for computer in [computer1, computer2]:\n",
    "        if computer not in all_computers:\n",
    "            all_computers.add(computer)\n",
    "        if computer not in connections:\n",
    "            connections[computer] = set([x for x in [computer1, computer2] if x != computer])\n",
    "        else:\n",
    "            connections[computer] = connections[computer].union(set([x for x in [computer1, computer2] if x != computer]))"
   ]
  },
  {
   "cell_type": "code",
   "execution_count": 141,
   "metadata": {},
   "outputs": [
    {
     "data": {
      "text/plain": [
       "({'am',\n",
       "  'au',\n",
       "  'be',\n",
       "  'cm',\n",
       "  'fo',\n",
       "  'ha',\n",
       "  'hh',\n",
       "  'im',\n",
       "  'nt',\n",
       "  'os',\n",
       "  'qz',\n",
       "  'rr',\n",
       "  'so'},\n",
       " 13)"
      ]
     },
     "execution_count": 141,
     "metadata": {},
     "output_type": "execute_result"
    }
   ],
   "source": [
    "def get_cliques(cur_clique,free_computers,used_computers,connections):\n",
    "    if not free_computers and not used_computers:\n",
    "        yield cur_clique\n",
    "    while free_computers:\n",
    "        cur_comp = free_computers.pop()\n",
    "        yield from get_cliques(cur_clique.union({cur_comp}), free_computers.intersection(connections[cur_comp]), used_computers.intersection(connections[cur_comp]), connections)\n",
    "        used_computers.add(cur_comp)\n",
    "\n",
    "all_groups = list(get_cliques(set(),all_computers,set(),connections))\n",
    "\n",
    "max_group = None\n",
    "max_group_size = 0\n",
    "for group in all_groups:\n",
    "    group_len = len(group)\n",
    "    if group_len > max_group_size:\n",
    "        max_group_size = group_len\n",
    "        max_group = group\n",
    "max_group, max_group_size"
   ]
  },
  {
   "cell_type": "code",
   "execution_count": 142,
   "metadata": {},
   "outputs": [
    {
     "name": "stdout",
     "output_type": "stream",
     "text": [
      "am,au,be,cm,fo,ha,hh,im,nt,os,qz,rr,so\n"
     ]
    }
   ],
   "source": [
    "def get_password(group):\n",
    "    '''\n",
    "    Takes a set, sorts it alphabetically and returns the result as a string separated by commas\n",
    "    '''\n",
    "    alphabetical = sorted(list(group))\n",
    "    return ','.join(alphabetical)\n",
    "\n",
    "print(get_password(max_group))"
   ]
  },
  {
   "cell_type": "code",
   "execution_count": null,
   "metadata": {},
   "outputs": [],
   "source": []
  }
 ],
 "metadata": {
  "kernelspec": {
   "display_name": "Python 3",
   "language": "python",
   "name": "python3"
  },
  "language_info": {
   "codemirror_mode": {
    "name": "ipython",
    "version": 3
   },
   "file_extension": ".py",
   "mimetype": "text/x-python",
   "name": "python",
   "nbconvert_exporter": "python",
   "pygments_lexer": "ipython3",
   "version": "3.13.0"
  }
 },
 "nbformat": 4,
 "nbformat_minor": 2
}
