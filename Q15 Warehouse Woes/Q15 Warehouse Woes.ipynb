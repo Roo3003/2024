{
 "cells": [
  {
   "cell_type": "code",
   "execution_count": 47,
   "metadata": {},
   "outputs": [],
   "source": [
    "# Import class files\n",
    "\n",
    "import sys\n",
    "import os\n",
    "parent_dir = os.path.abspath(os.path.join(os.getcwd(), os.pardir))\n",
    "sys.path.append(parent_dir)"
   ]
  },
  {
   "cell_type": "code",
   "execution_count": 48,
   "metadata": {},
   "outputs": [],
   "source": [
    "from classes.grid import Grid\n",
    "\n",
    "example = open('example.txt', 'r').read()\n",
    "puzzle = open('puzzle.txt', 'r').read()\n",
    "\n",
    "input = example"
   ]
  },
  {
   "cell_type": "markdown",
   "metadata": {},
   "source": [
    "# Part 1"
   ]
  },
  {
   "cell_type": "code",
   "execution_count": 49,
   "metadata": {},
   "outputs": [],
   "source": [
    "class Warehouse(Grid):\n",
    "    def __init__(self, grid):\n",
    "        super().__init__(grid)\n",
    "        self.robot_pos = self.get_tiles('@').pop()\n",
    "\n",
    "    def apply_robot_instruction(self, dir):\n",
    "        '''\n",
    "        Moves the robot (and potentially some boxes) once in the direction dir\n",
    "        '''\n",
    "        match dir:\n",
    "            case '^':\n",
    "                dir_format = 'up'\n",
    "            case '<':\n",
    "                dir_format = 'left'\n",
    "            case '>':\n",
    "                dir_format = 'right'\n",
    "            case 'v':\n",
    "                dir_format = 'down'\n",
    "\n",
    "        # Find how far away the next wall is in this direction, and how long the immediate chain of boxes is\n",
    "        wall_steps_away = 1\n",
    "        box_chain_on = True\n",
    "        boxes_directly_in_front = 0\n",
    "\n",
    "        while (True):\n",
    "            # What tile is [iteration x] steps away in this direction?\n",
    "            look_ahead = self.get_relative(self.robot_pos[0],self.robot_pos[1],dir_format,step=wall_steps_away)\n",
    "\n",
    "            # Track how many boxes are directly in front\n",
    "            if look_ahead[2] == 'O' and box_chain_on:\n",
    "                boxes_directly_in_front += 1\n",
    "            else:\n",
    "                box_chain_on = False\n",
    "            \n",
    "            # Stop once we hit a wall\n",
    "            if look_ahead[2] == '#':\n",
    "                break\n",
    "            wall_steps_away += 1\n",
    "\n",
    "        # Look ahead in this direction up to the wall, and push all concurrent tiles\n",
    "        # before a . up one square, and replace the existing tiles with the one that is one place before\n",
    "        \n",
    "        # Skip if we are squished up against a wall\n",
    "        if boxes_directly_in_front == wall_steps_away-1:\n",
    "            return\n",
    "\n",
    "\n",
    "        # Loop through how long the current chain of boxes is (go in reverse to preserve grid info)\n",
    "        for tile_shift in range(boxes_directly_in_front, -1, -1):\n",
    "\n",
    "            # Move each box up one position in the direction that we're moving\n",
    "            match dir:\n",
    "                case '^':\n",
    "                    self.grid[self.robot_pos[0]-tile_shift-1][self.robot_pos[1]] = self.grid[self.robot_pos[0]-tile_shift][self.robot_pos[1]]\n",
    "                case 'v':\n",
    "                    self.grid[self.robot_pos[0]+tile_shift+1][self.robot_pos[1]] = self.grid[self.robot_pos[0]+tile_shift][self.robot_pos[1]]\n",
    "                case '<':\n",
    "                    self.grid[self.robot_pos[0]][self.robot_pos[1]-tile_shift-1] = self.grid[self.robot_pos[0]][self.robot_pos[1]-tile_shift]\n",
    "                case '>':\n",
    "                    self.grid[self.robot_pos[0]][self.robot_pos[1]+tile_shift+1] = self.grid[self.robot_pos[0]][self.robot_pos[1]+tile_shift]\n",
    "            \n",
    "            # If we've reached the end of the chain of consecutitve boxes, then we have reached the robot,\n",
    "            # so we update its position\n",
    "            if tile_shift == 0:\n",
    "                self.grid[self.robot_pos[0]][self.robot_pos[1]] = '.'\n",
    "                self.robot_pos = self.get_tiles('@').pop()\n",
    "                break\n",
    "    \n",
    "    def gps_sum(self):\n",
    "        '''\n",
    "        Returns the sum of all boxes' GPS coordinates of the current grid\n",
    "        '''\n",
    "        boxes = self.get_tiles('O')\n",
    "\n",
    "        total_gps_sum = 0\n",
    "        for box in boxes:\n",
    "            total_gps_sum += box[0]*100 + box[1]\n",
    "            \n",
    "        return total_gps_sum\n"
   ]
  },
  {
   "cell_type": "code",
   "execution_count": 50,
   "metadata": {},
   "outputs": [
    {
     "data": {
      "text/plain": [
       "908"
      ]
     },
     "execution_count": 50,
     "metadata": {},
     "output_type": "execute_result"
    }
   ],
   "source": [
    "warehouse_info = input.split('\\n\\n')\n",
    "\n",
    "warehouse_map_input = warehouse_info[0].split('\\n')\n",
    "robot_directions = ''.join(warehouse_info[1].split('\\n'))\n",
    "\n",
    "warehouse_map = Warehouse(warehouse_map_input)\n",
    "#warehouse_map.print_grid()\n",
    "\n",
    "for dir in robot_directions:\n",
    "    #print(f'moving {dir}')\n",
    "    warehouse_map.apply_robot_instruction(dir)\n",
    "#warehouse_map.print_grid()\n",
    "warehouse_map.gps_sum()"
   ]
  },
  {
   "cell_type": "markdown",
   "metadata": {},
   "source": [
    "# Part 2"
   ]
  },
  {
   "cell_type": "code",
   "execution_count": 65,
   "metadata": {},
   "outputs": [],
   "source": [
    "class WideWarehouse(Grid):\n",
    "    def __init__(self, grid):\n",
    "        super().__init__(grid)\n",
    "        \n",
    "        # Need to re-initialise the grid in part 2 to widen everything\n",
    "        new_grid = [['.']*self.num_cols*2 for _ in range(self.num_rows)]\n",
    "\n",
    "        for row in range(self.num_rows):\n",
    "            for col in range(self.num_cols):\n",
    "                match self.grid[row][col]:\n",
    "                    case '#':\n",
    "                        new_grid[row][col*2] = '#'\n",
    "                        new_grid[row][col*2+1] = '#'\n",
    "                    case '.':\n",
    "                        new_grid[row][col*2] = '.'\n",
    "                        new_grid[row][col*2+1] = '.'\n",
    "                    case 'O':\n",
    "                        new_grid[row][col*2] = '['\n",
    "                        new_grid[row][col*2+1] = ']'\n",
    "                    case '@':\n",
    "                        new_grid[row][col*2] = '@'\n",
    "                        new_grid[row][col*2+1] = '.'\n",
    "        \n",
    "        self.grid = new_grid\n",
    "        self.num_cols *= 2\n",
    "\n"
   ]
  },
  {
   "cell_type": "code",
   "execution_count": 67,
   "metadata": {},
   "outputs": [],
   "source": [
    "warehouse_info = input.split('\\n\\n')\n",
    "\n",
    "warehouse_map_input = warehouse_info[0].split('\\n')\n",
    "robot_directions = ''.join(warehouse_info[1].split('\\n'))\n",
    "\n",
    "warehouse_map = WideWarehouse(warehouse_map_input)\n",
    "#warehouse_map.print_grid()"
   ]
  },
  {
   "cell_type": "code",
   "execution_count": null,
   "metadata": {},
   "outputs": [],
   "source": []
  }
 ],
 "metadata": {
  "kernelspec": {
   "display_name": "Python 3",
   "language": "python",
   "name": "python3"
  },
  "language_info": {
   "codemirror_mode": {
    "name": "ipython",
    "version": 3
   },
   "file_extension": ".py",
   "mimetype": "text/x-python",
   "name": "python",
   "nbconvert_exporter": "python",
   "pygments_lexer": "ipython3",
   "version": "3.13.0"
  }
 },
 "nbformat": 4,
 "nbformat_minor": 2
}
