{
 "cells": [
  {
   "cell_type": "code",
   "execution_count": 185,
   "metadata": {},
   "outputs": [],
   "source": [
    "# Import class files\n",
    "\n",
    "import sys\n",
    "import os\n",
    "parent_dir = os.path.abspath(os.path.join(os.getcwd(), os.pardir))\n",
    "sys.path.append(parent_dir)"
   ]
  },
  {
   "cell_type": "code",
   "execution_count": 186,
   "metadata": {},
   "outputs": [],
   "source": [
    "from classes.grid import Grid\n",
    "from queue import PriorityQueue\n",
    "import re\n",
    "\n",
    "example = open('example.txt', 'r').read()\n",
    "puzzle = open('puzzle.txt', 'r').read()\n",
    "\n",
    "input = puzzle"
   ]
  },
  {
   "cell_type": "markdown",
   "metadata": {},
   "source": [
    "# Part 1"
   ]
  },
  {
   "cell_type": "code",
   "execution_count": 187,
   "metadata": {},
   "outputs": [],
   "source": [
    "class MemorySpace(Grid):\n",
    "    def __init__(self, grid, falling_bytes):\n",
    "        super().__init__(grid)\n",
    "        self.start_pos = (0,0)\n",
    "        self.end_pos = (self.num_rows-1,self.num_cols-1)\n",
    "        self.corrupted_tiles = set()\n",
    "        self.falling_bytes = falling_bytes\n",
    "    \n",
    "    def next_byte_fall(self, times=1, return_byte_coords=False):\n",
    "        '''\n",
    "        Causes the next 'times' bytes to fall onto the grid\n",
    "        '''\n",
    "        for _ in range(times):\n",
    "            next_falling_byte = self.falling_bytes.pop(0)\n",
    "            self.grid[next_falling_byte[0]][next_falling_byte[1]] = '#'\n",
    "        \n",
    "        if return_byte_coords:\n",
    "            return next_falling_byte\n",
    "    \n",
    "    def shortest_path(self, ):\n",
    "        '''\n",
    "        Finds the shortest path from start_pos -> end_pos (default top left to bottom right)\n",
    "        '''\n",
    "\n",
    "        seen = set()\n",
    "        # A node in this grid is simply just a tile, (easier than Q16!),\n",
    "        # and node neighbours are '.' tiles that are adjacent\n",
    "\n",
    "        nodes_to_visit = PriorityQueue()\n",
    "        nodes_to_visit.put((0, self.start_pos))\n",
    "\n",
    "        while(nodes_to_visit.qsize() > 0):\n",
    "            cur_node = nodes_to_visit.get()\n",
    "            cur_node_cost = cur_node[0]\n",
    "            cur_node_coords = cur_node[1]\n",
    "\n",
    "            # Get neighbours\n",
    "\n",
    "            neighbours = set()\n",
    "            for dir in ['^','<','v','>']:\n",
    "                adj_tile = self.get_relative(cur_node_coords[0], cur_node_coords[1], dir)\n",
    "                if adj_tile[2] == '.' and adj_tile[0] != -1:\n",
    "                    neighbours.add((adj_tile[0],adj_tile[1]))\n",
    "            \n",
    "            for neighbour in neighbours:\n",
    "                if neighbour in seen:\n",
    "                    continue\n",
    "\n",
    "                neighbour_cost = cur_node_cost + 1\n",
    "                if neighbour == self.end_pos:\n",
    "                    return neighbour_cost\n",
    "                \n",
    "                nodes_to_visit.put((neighbour_cost,neighbour))\n",
    "                seen.add(neighbour)\n",
    "        return 'Failed'\n",
    "        \n",
    "                \n"
   ]
  },
  {
   "cell_type": "code",
   "execution_count": 188,
   "metadata": {},
   "outputs": [
    {
     "data": {
      "text/plain": [
       "454"
      ]
     },
     "execution_count": 188,
     "metadata": {},
     "output_type": "execute_result"
    }
   ],
   "source": [
    "falling_bytes_info = input.split('\\n')\n",
    "\n",
    "# Extract x and y coords of falling bytes in order\n",
    "\n",
    "falling_bytes = []\n",
    "\n",
    "for falling_byte in falling_bytes_info:\n",
    "    falling_byte_x = int(re.findall(r'^\\d+', falling_byte)[0])\n",
    "    falling_byte_y = int(re.findall(r'\\d+$', falling_byte)[0])\n",
    "    falling_bytes.append((falling_byte_x,falling_byte_y))\n",
    "\n",
    "\n",
    "# Initialise empty grid\n",
    "\n",
    "if input == example:\n",
    "    num_rows = 7\n",
    "    num_cols = 7\n",
    "    falls = 12\n",
    "elif input == puzzle:\n",
    "    num_rows = 71\n",
    "    num_cols = 71\n",
    "    falls = 1024\n",
    "\n",
    "memory_space = MemorySpace(['.'*num_cols]*num_rows, falling_bytes)\n",
    "#memory_space.print_grid()\n",
    "\n",
    "# todo: make inherited class from grid that includes the falling bytes order and add a method that causes the next byte to fall,\n",
    "# then add method that implements pathfinding alg for current state of grid\n",
    "\n",
    "memory_space.next_byte_fall(times=falls)\n",
    "#memory_space.print_grid()\n",
    "\n",
    "memory_space.shortest_path()"
   ]
  },
  {
   "cell_type": "markdown",
   "metadata": {},
   "source": [
    "# Part 2"
   ]
  },
  {
   "cell_type": "code",
   "execution_count": 189,
   "metadata": {},
   "outputs": [
    {
     "name": "stderr",
     "output_type": "stream",
     "text": [
      "  8%|▊         | 50/650 [00:00<00:04, 141.75it/s]"
     ]
    },
    {
     "name": "stdout",
     "output_type": "stream",
     "text": [
      "2850 (8, 51)\n"
     ]
    },
    {
     "name": "stderr",
     "output_type": "stream",
     "text": [
      "\n"
     ]
    }
   ],
   "source": [
    "import tqdm\n",
    "\n",
    "falling_bytes_info = input.split('\\n')\n",
    "\n",
    "# Extract x and y coords of falling bytes in order\n",
    "\n",
    "falling_bytes = []\n",
    "\n",
    "for falling_byte in falling_bytes_info:\n",
    "    falling_byte_x = int(re.findall(r'^\\d+', falling_byte)[0])\n",
    "    falling_byte_y = int(re.findall(r'\\d+$', falling_byte)[0])\n",
    "    falling_bytes.append((falling_byte_x,falling_byte_y))\n",
    "\n",
    "\n",
    "# Initialise empty grid\n",
    "\n",
    "if input == example:\n",
    "    num_rows = 7\n",
    "    num_cols = 7\n",
    "elif input == puzzle:\n",
    "    num_rows = 71\n",
    "    num_cols = 71\n",
    "\n",
    "memory_space = MemorySpace(['.'*num_cols]*num_rows, falling_bytes)\n",
    "#memory_space.print_grid()\n",
    "\n",
    "# todo: make inherited class from grid that includes the falling bytes order and add a method that causes the next byte to fall,\n",
    "# then add method that implements pathfinding alg for current state of grid\n",
    "\n",
    "for i in tqdm.tqdm(range(2800,len(falling_bytes))):\n",
    "    this_falling_bytes = falling_bytes.copy()\n",
    "    memory_space = MemorySpace(['.'*num_cols]*num_rows, this_falling_bytes)\n",
    "    cur_falling_byte = memory_space.next_byte_fall(times=i,return_byte_coords=True)\n",
    "    shortest_path = memory_space.shortest_path()\n",
    "    #print(shortest_path)\n",
    "    if memory_space.shortest_path() == 'Failed':\n",
    "        print(i, cur_falling_byte)\n",
    "        break\n",
    "    \n",
    "#memory_space.print_grid()\n",
    "\n"
   ]
  },
  {
   "cell_type": "code",
   "execution_count": null,
   "metadata": {},
   "outputs": [],
   "source": []
  },
  {
   "cell_type": "code",
   "execution_count": null,
   "metadata": {},
   "outputs": [],
   "source": []
  }
 ],
 "metadata": {
  "kernelspec": {
   "display_name": "Python 3",
   "language": "python",
   "name": "python3"
  },
  "language_info": {
   "codemirror_mode": {
    "name": "ipython",
    "version": 3
   },
   "file_extension": ".py",
   "mimetype": "text/x-python",
   "name": "python",
   "nbconvert_exporter": "python",
   "pygments_lexer": "ipython3",
   "version": "3.13.0"
  }
 },
 "nbformat": 4,
 "nbformat_minor": 2
}
