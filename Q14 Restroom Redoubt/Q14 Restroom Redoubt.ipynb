{
 "cells": [
  {
   "cell_type": "code",
   "execution_count": 1,
   "metadata": {},
   "outputs": [],
   "source": [
    "# Import class files\n",
    "\n",
    "import sys\n",
    "import os\n",
    "parent_dir = os.path.abspath(os.path.join(os.getcwd(), os.pardir))\n",
    "sys.path.append(parent_dir)"
   ]
  },
  {
   "cell_type": "code",
   "execution_count": 2,
   "metadata": {},
   "outputs": [],
   "source": [
    "from classes.grid import Grid\n",
    "import re\n",
    "\n",
    "example = open('example.txt', 'r').read()\n",
    "puzzle = open('puzzle.txt', 'r').read()\n",
    "\n",
    "input = puzzle"
   ]
  },
  {
   "cell_type": "markdown",
   "metadata": {},
   "source": [
    "# Part 1"
   ]
  },
  {
   "cell_type": "code",
   "execution_count": 3,
   "metadata": {},
   "outputs": [],
   "source": [
    "class RobotGrid(Grid):\n",
    "    def __init__(self, grid):\n",
    "        super().__init__(grid)\n",
    "        self.robots = set()\n",
    "    \n",
    "    def update_robot_positions(self):\n",
    "        '''\n",
    "        Uses the positions of all robots in the grid to show how many are currently in each tile\n",
    "        '''\n",
    "        # Reset grid before we place the new iteration of robots\n",
    "        self.grid = [['.']*self.num_cols for _ in range(self.num_rows)]\n",
    "        # Place each robot into the grid and add 1 to the tile that it is placed in\n",
    "        for robot in self.robots:\n",
    "            cur_tile = self.grid[robot.row][robot.col]\n",
    "            if cur_tile == '.':\n",
    "                self.grid[robot.row][robot.col] = '1'\n",
    "            else:\n",
    "                self.grid[robot.row][robot.col] = str(int(cur_tile) + 1)\n",
    "    \n",
    "    def move_all_robots(self, iterations=1):\n",
    "        '''\n",
    "        Moves all robots for the given number of iterations and updates their positions in the grid\n",
    "        '''\n",
    "        for _ in range(iterations):\n",
    "            for robot in self.robots:\n",
    "                robot.move()\n",
    "            self.update_robot_positions()\n",
    "    \n",
    "    def safety_factor(self):\n",
    "        '''\n",
    "        Returns the safety factor of the robot grid (quadrant robot count product)\n",
    "        '''\n",
    "        # Split into quadrants\n",
    "        mid_row = self.num_rows // 2\n",
    "        mid_col = self.num_cols // 2\n",
    "        \n",
    "        quad_1 = quad_2 = quad_3 = quad_4 = 0\n",
    "\n",
    "        for row in range(self.num_rows):\n",
    "            for col in range(self.num_cols):\n",
    "                cur_tile = self.grid[row][col]\n",
    "                if cur_tile != '.':\n",
    "                    if row < mid_row and col < mid_col:\n",
    "                        quad_1 += int(cur_tile)\n",
    "                    elif row > mid_row and col < mid_col:\n",
    "                        quad_2 += int(cur_tile)\n",
    "                    elif row < mid_row and col > mid_col:\n",
    "                        quad_3 += int(cur_tile)\n",
    "                    elif row > mid_row and col > mid_col:\n",
    "                        quad_4 += int(cur_tile)\n",
    "        \n",
    "        return quad_1*quad_2*quad_3*quad_4\n",
    "    \n",
    "\n",
    "class Robot():\n",
    "    def __init__(self, col, row, h_vel, v_vel, grid: RobotGrid):\n",
    "        self.row = int(row)\n",
    "        self.col = int(col)\n",
    "        self.h_vel = int(h_vel)\n",
    "        self.v_vel = int(v_vel)\n",
    "        self.grid = grid\n",
    "    \n",
    "    def move(self):\n",
    "        '''\n",
    "        Moves this robot to its next position (where it is after 1 second)\n",
    "        '''\n",
    "        if self.h_vel >= 0:\n",
    "            h_movement = self.grid.get_relative(self.row,self.col,'right',step=self.h_vel,wraparound=True)\n",
    "        else:\n",
    "            h_movement = self.grid.get_relative(self.row,self.col,'left',step=self.h_vel*(-1),wraparound=True)\n",
    "\n",
    "        if self.v_vel >= 0:\n",
    "            movement = self.grid.get_relative(h_movement[0],h_movement[1],'down',step=self.v_vel,wraparound=True)\n",
    "        else:\n",
    "            movement = self.grid.get_relative(h_movement[0],h_movement[1],'up',step=self.v_vel*(-1),wraparound=True)\n",
    "\n",
    "        self.row = movement[0]\n",
    "        self.col = movement[1]"
   ]
  },
  {
   "cell_type": "code",
   "execution_count": 4,
   "metadata": {},
   "outputs": [
    {
     "data": {
      "text/plain": [
       "225521010"
      ]
     },
     "execution_count": 4,
     "metadata": {},
     "output_type": "execute_result"
    }
   ],
   "source": [
    "robots_info = input.split('\\n')\n",
    "robots_info\n",
    "\n",
    "# Identify grid dimensions\n",
    "if input == example:\n",
    "    grid_rows = 7\n",
    "    grid_cols = 11\n",
    "elif input == puzzle:\n",
    "    grid_rows = 103\n",
    "    grid_cols = 101\n",
    "\n",
    "# Set up a grid to operate on\n",
    "ebhq_grid = RobotGrid(['.'*grid_cols for _ in range(grid_rows)])\n",
    "\n",
    "# Initialise Robots\n",
    "for robot in robots_info:\n",
    "    # Extract info\n",
    "    robot_x = re.findall(r'p=(\\d*)', robot)[0]\n",
    "    robot_y = re.findall(r'p=\\d*,(\\d*)', robot)[0]\n",
    "    robot_h_vel = re.findall(r'v=(-*\\d*)', robot)[0]\n",
    "    robot_v_vel = re.findall(r'v=-*\\d*,(-*\\d*)', robot)[0]\n",
    "\n",
    "    cur_robot = Robot(robot_x,robot_y,robot_h_vel, robot_v_vel, ebhq_grid)\n",
    "    ebhq_grid.robots.add(cur_robot)\n",
    "\n",
    "# Iterate 100 seconds\n",
    "ebhq_grid.move_all_robots(iterations=100)\n",
    "\n",
    "#ebhq_grid.print_grid()\n",
    "ebhq_grid.safety_factor()\n"
   ]
  },
  {
   "cell_type": "markdown",
   "metadata": {},
   "source": [
    "# Part 2"
   ]
  },
  {
   "cell_type": "code",
   "execution_count": 5,
   "metadata": {},
   "outputs": [
    {
     "name": "stdout",
     "output_type": "stream",
     "text": [
      "above is after 3963 seconds\n",
      "above is after 7774 seconds\n",
      "above is after 8598 seconds\n",
      "above is after 9895 seconds\n"
     ]
    }
   ],
   "source": [
    "\n",
    "\n",
    "robots_info = input.split('\\n')\n",
    "robots_info\n",
    "\n",
    "# Identify grid dimensions\n",
    "if input == example:\n",
    "    grid_rows = 7\n",
    "    grid_cols = 11\n",
    "elif input == puzzle:\n",
    "    grid_rows = 103\n",
    "    grid_cols = 101\n",
    "\n",
    "# Set up a grid to operate on\n",
    "ebhq_grid = RobotGrid(['.'*grid_cols for _ in range(grid_rows)])\n",
    "\n",
    "# Initialise Robots\n",
    "for robot in robots_info:\n",
    "    # Extract info\n",
    "    robot_x = re.findall(r'p=(\\d*)', robot)[0]\n",
    "    robot_y = re.findall(r'p=\\d*,(\\d*)', robot)[0]\n",
    "    robot_h_vel = re.findall(r'v=(-*\\d*)', robot)[0]\n",
    "    robot_v_vel = re.findall(r'v=-*\\d*,(-*\\d*)', robot)[0]\n",
    "\n",
    "    cur_robot = Robot(robot_x,robot_y,robot_h_vel, robot_v_vel, ebhq_grid)\n",
    "    ebhq_grid.robots.add(cur_robot)\n",
    "\n",
    "# Part 2...\n",
    "\n",
    "# The output relies on visual confirmation that we have the right image\n",
    "# Taking the hint from part 1, use the safety factor; if an image is formed of robots\n",
    "# spread out such that certain quadrants have very few, then this will in turn decrease the safety factor.\n",
    "# Hence, I have taken the safety factor from part 1 as a reference and have used it as a limit to filter out\n",
    "# certain grid formations. Initially reducing it by 2 orders of magnitude and slowly increasing this until\n",
    "# grids started printing from the code below, you can see the Christmas tree appear after 7774 seconds \n",
    "\n",
    "for second in range(10000):\n",
    "    ebhq_grid.move_all_robots()\n",
    "    if ebhq_grid.safety_factor() < 99999999:\n",
    "        #ebhq_grid.print_grid()\n",
    "        print(f'above is after {second+1} seconds')\n"
   ]
  },
  {
   "cell_type": "code",
   "execution_count": null,
   "metadata": {},
   "outputs": [],
   "source": []
  }
 ],
 "metadata": {
  "kernelspec": {
   "display_name": "Python 3",
   "language": "python",
   "name": "python3"
  },
  "language_info": {
   "codemirror_mode": {
    "name": "ipython",
    "version": 3
   },
   "file_extension": ".py",
   "mimetype": "text/x-python",
   "name": "python",
   "nbconvert_exporter": "python",
   "pygments_lexer": "ipython3",
   "version": "3.13.1"
  }
 },
 "nbformat": 4,
 "nbformat_minor": 2
}
