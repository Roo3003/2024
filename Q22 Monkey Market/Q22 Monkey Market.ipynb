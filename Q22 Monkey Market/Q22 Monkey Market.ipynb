{
 "cells": [
  {
   "cell_type": "code",
   "execution_count": 125,
   "metadata": {},
   "outputs": [],
   "source": [
    "# Import class files\n",
    "\n",
    "import sys\n",
    "import os\n",
    "parent_dir = os.path.abspath(os.path.join(os.getcwd(), os.pardir))\n",
    "sys.path.append(parent_dir)"
   ]
  },
  {
   "cell_type": "code",
   "execution_count": 126,
   "metadata": {},
   "outputs": [],
   "source": [
    "example = open('example.txt', 'r').read()\n",
    "puzzle = open('puzzle.txt', 'r').read()\n",
    "\n",
    "input = puzzle"
   ]
  },
  {
   "cell_type": "markdown",
   "metadata": {},
   "source": [
    "# Part 1"
   ]
  },
  {
   "cell_type": "code",
   "execution_count": 127,
   "metadata": {},
   "outputs": [],
   "source": [
    "def mix(num1,num2):\n",
    "    return num1 ^ num2\n",
    "\n",
    "def prune(num):\n",
    "    return num % 16777216\n",
    "\n",
    "def find_next_secret_number(secret_num):\n",
    "    step1 = prune(mix(secret_num,secret_num*64))\n",
    "    step2 = prune(mix(step1, step1//32))\n",
    "    step3 = prune(mix(step2, step2*2048))\n",
    "    return step3\n",
    "\n",
    "def find_xth_secret_number(secret_num, x):\n",
    "    for _ in range(x):\n",
    "        secret_num = find_next_secret_number(secret_num)\n",
    "    return secret_num\n"
   ]
  },
  {
   "cell_type": "code",
   "execution_count": 128,
   "metadata": {},
   "outputs": [],
   "source": [
    "# initial_secret_numbers = input.split('\\n')\n",
    "\n",
    "# total = 0\n",
    "# for init_secret_num in initial_secret_numbers:\n",
    "#     total += find_xth_secret_number(int(init_secret_num), 2000)\n",
    "# total"
   ]
  },
  {
   "cell_type": "markdown",
   "metadata": {},
   "source": [
    "# Part 2"
   ]
  },
  {
   "cell_type": "code",
   "execution_count": 129,
   "metadata": {},
   "outputs": [],
   "source": [
    "class Monkey():\n",
    "    def __init__(self, initial_secret_number):\n",
    "        # Find prices and changes for first 2000 secret numbers\n",
    "        self.prices = [int(str(initial_secret_number)[-1])]\n",
    "        self.changes = [None]\n",
    "\n",
    "        # Make hashmap of sequences that appear in this monkey to the number of bananas\n",
    "        self.seqs = {}\n",
    "\n",
    "        cur_secret_num = int(initial_secret_number)\n",
    "        for i in range(2000):\n",
    "            cur_secret_num = find_next_secret_number(cur_secret_num)\n",
    "            banana_price = int(str(cur_secret_num)[-1])\n",
    "            self.prices.append(banana_price)\n",
    "            if i == 0:\n",
    "                continue\n",
    "            change = self.prices[i] - self.prices[i-1]\n",
    "            self.changes.append(change)\n",
    "            if i > 3:\n",
    "                cur_seq = (self.changes[i-3],self.changes[i-2],self.changes[i-1],self.changes[i])\n",
    "                if cur_seq not in self.seqs:\n",
    "                    self.seqs[cur_seq] = self.prices[i]\n",
    "\n",
    "\n",
    "\n",
    "def score_seq(seq, monkeys):\n",
    "    '''\n",
    "    Takes a sequences of changes and returns the total number of bananas returned\n",
    "    when exchanged across all of the monkeys\n",
    "    '''\n",
    "    total = 0\n",
    "    for monkey in monkeys:\n",
    "        if seq in monkey.seqs:\n",
    "            total += monkey.seqs[seq]\n",
    "    return total\n"
   ]
  },
  {
   "cell_type": "code",
   "execution_count": 133,
   "metadata": {},
   "outputs": [
    {
     "name": "stderr",
     "output_type": "stream",
     "text": [
      "Generating monkeys...: 100%|██████████| 1862/1862 [00:15<00:00, 122.83it/s]\n",
      "Testing sequences...: 100%|██████████| 40951/40951 [00:16<00:00, 2446.10it/s]\n"
     ]
    },
    {
     "data": {
      "text/plain": [
       "1791"
      ]
     },
     "execution_count": 133,
     "metadata": {},
     "output_type": "execute_result"
    }
   ],
   "source": [
    "from tqdm import tqdm\n",
    "\n",
    "initial_secret_numbers = input.split('\\n')\n",
    "\n",
    "# Order of buyers doesn't matter, so store each monkey in a set\n",
    "monkeys = set()\n",
    "\n",
    "# Keep track of all possible sequences that appear\n",
    "all_seqs = set()\n",
    "\n",
    "# Initialise monkeys\n",
    "for monkey in tqdm(initial_secret_numbers, desc='Generating monkeys...'):\n",
    "    cur_monkey = Monkey(monkey)\n",
    "    monkeys.add(cur_monkey)\n",
    "    all_seqs = all_seqs.union(set(cur_monkey.seqs.keys()))\n",
    "\n",
    "\n",
    "most_bananas = 0\n",
    "for seq in tqdm(all_seqs, desc='Testing sequences...'):\n",
    "    most_bananas = max(most_bananas, score_seq(seq, monkeys))\n",
    "most_bananas"
   ]
  },
  {
   "cell_type": "code",
   "execution_count": null,
   "metadata": {},
   "outputs": [],
   "source": []
  }
 ],
 "metadata": {
  "kernelspec": {
   "display_name": "Python 3",
   "language": "python",
   "name": "python3"
  },
  "language_info": {
   "codemirror_mode": {
    "name": "ipython",
    "version": 3
   },
   "file_extension": ".py",
   "mimetype": "text/x-python",
   "name": "python",
   "nbconvert_exporter": "python",
   "pygments_lexer": "ipython3",
   "version": "3.13.1"
  }
 },
 "nbformat": 4,
 "nbformat_minor": 2
}
