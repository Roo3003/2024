{
 "cells": [
  {
   "cell_type": "code",
   "execution_count": 11,
   "metadata": {},
   "outputs": [],
   "source": [
    "from tqdm import tqdm\n",
    "\n",
    "example = open('example.txt', 'r').read()\n",
    "puzzle = open('puzzle.txt', 'r').read()\n",
    "\n",
    "input = puzzle"
   ]
  },
  {
   "cell_type": "markdown",
   "metadata": {},
   "source": [
    "# Part 1"
   ]
  },
  {
   "cell_type": "code",
   "execution_count": 12,
   "metadata": {},
   "outputs": [],
   "source": [
    "class Stones():\n",
    "    def __init__(self, stones_map):\n",
    "        self.stones = stones_map\n",
    "    \n",
    "    def apply_rule(self, stone):\n",
    "        '''\n",
    "        Applies the given rules to a single stone in the line\n",
    "        stone: str\n",
    "        output: list(str) of output stones\n",
    "        '''\n",
    "        if stone == '0':\n",
    "            return ['1']\n",
    "        elif len(stone) % 2 == 0:\n",
    "            mid = len(stone) // 2\n",
    "            left_half = stone[:mid]\n",
    "            right_half = stone[mid:]\n",
    "            while right_half[0] == '0' and len(right_half) > 1:\n",
    "                right_half = right_half[1:]\n",
    "            return [left_half,right_half]\n",
    "        else:\n",
    "            return [str(int(stone)*2024)]\n",
    "    \n",
    "    def print_stones(self):\n",
    "        out_str = ''\n",
    "        for stone in self.stones:\n",
    "            out_str += stone + ' '\n",
    "        print(out_str)\n",
    "    \n",
    "    def blink(self):\n",
    "        '''\n",
    "        Blinks once\n",
    "        '''\n",
    "        new_stones = []\n",
    "        for stone in self.stones:\n",
    "            new_stones += self.apply_rule(stone)\n",
    "        self.stones = new_stones\n",
    "    \n",
    "    def count_stones(self):\n",
    "        return len(self.stones)"
   ]
  },
  {
   "cell_type": "code",
   "execution_count": 13,
   "metadata": {},
   "outputs": [
    {
     "name": "stderr",
     "output_type": "stream",
     "text": [
      "100%|██████████| 25/25 [00:00<00:00, 214.73it/s]\n"
     ]
    },
    {
     "data": {
      "text/plain": [
       "193269"
      ]
     },
     "execution_count": 13,
     "metadata": {},
     "output_type": "execute_result"
    }
   ],
   "source": [
    "stones_map = input.split(' ')\n",
    "stones = Stones(stones_map)\n",
    "for _ in tqdm(range(25)):\n",
    "    stones.blink()\n",
    "#stones.print_stones()\n",
    "stones.count_stones()"
   ]
  },
  {
   "cell_type": "markdown",
   "metadata": {},
   "source": [
    "# Part 2"
   ]
  },
  {
   "cell_type": "code",
   "execution_count": 14,
   "metadata": {},
   "outputs": [],
   "source": [
    "# Part 2 adjustments to this code basically just store the stones as a dictioanry instead of a list of strings - see the notes in the next cell\n",
    "\n",
    "class Stones():\n",
    "    def __init__(self, stones_map):\n",
    "        \n",
    "        # Store the counts of the stones, instead of the stones themselves\n",
    "        self.stones = {}\n",
    "        for stone in stones_map:\n",
    "            if not stone in self.stones:\n",
    "                self.stones[stone] = 1\n",
    "            else:\n",
    "                self.stones[stone] += 1\n",
    "    \n",
    "    def apply_rule(self, stone):\n",
    "        '''\n",
    "        Applies the given rules to a single stone in the line\n",
    "        stone: str\n",
    "        output: list(str) of output stones\n",
    "        '''\n",
    "        if stone == '0':\n",
    "            return ['1']\n",
    "        elif len(stone) % 2 == 0:\n",
    "            mid = len(stone) // 2\n",
    "            left_half = stone[:mid]\n",
    "            right_half = stone[mid:]\n",
    "            while right_half[0] == '0' and len(right_half) > 1:\n",
    "                right_half = right_half[1:]\n",
    "            return [left_half,right_half]\n",
    "        else:\n",
    "            return [str(int(stone)*2024)]\n",
    "    \n",
    "    def print_stones(self):\n",
    "        print(self.stones)\n",
    "    \n",
    "    def blink(self):\n",
    "        '''\n",
    "        Blinks once\n",
    "        '''\n",
    "        new_stone_line = {}\n",
    "\n",
    "        for stone in self.stones:\n",
    "            new_stones = self.apply_rule(stone)\n",
    "            for new_stone in new_stones:\n",
    "                if new_stone in new_stone_line:\n",
    "                    new_stone_line[new_stone] += self.stones[stone]\n",
    "                else:\n",
    "                    new_stone_line[new_stone] = self.stones[stone]\n",
    "\n",
    "\n",
    "        #print(new_stones)\n",
    "        self.stones = new_stone_line\n",
    "    \n",
    "    def count_stones(self):\n",
    "        count = 0\n",
    "        for s in self.stones:\n",
    "            count += self.stones[s]\n",
    "        return count\n"
   ]
  },
  {
   "cell_type": "code",
   "execution_count": null,
   "metadata": {},
   "outputs": [
    {
     "data": {
      "text/plain": [
       "228449040027793"
      ]
     },
     "execution_count": 16,
     "metadata": {},
     "output_type": "execute_result"
    }
   ],
   "source": [
    "# Need to redesign the code for part 2 - due to the exploding size of output through blinking 75 times we can't feasibly compute this is a stored array\n",
    "\n",
    "# Taking a more concise approach... each stone acts independent of all others (i.e. it doesn't matter which order the stones are in!)\n",
    "# We'll store the stones as a dictionary, recording the stone number to the amount of times it appears\n",
    "\n",
    "stones_map = input.split(' ')\n",
    "stones = Stones(stones_map)\n",
    "for _ in range(75):\n",
    "    #stones.print_stones()\n",
    "    stones.blink()\n",
    "stones.count_stones()"
   ]
  },
  {
   "cell_type": "code",
   "execution_count": null,
   "metadata": {},
   "outputs": [],
   "source": []
  }
 ],
 "metadata": {
  "kernelspec": {
   "display_name": "Python 3",
   "language": "python",
   "name": "python3"
  },
  "language_info": {
   "codemirror_mode": {
    "name": "ipython",
    "version": 3
   },
   "file_extension": ".py",
   "mimetype": "text/x-python",
   "name": "python",
   "nbconvert_exporter": "python",
   "pygments_lexer": "ipython3",
   "version": "3.13.0"
  }
 },
 "nbformat": 4,
 "nbformat_minor": 2
}
