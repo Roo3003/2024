{
 "cells": [
  {
   "cell_type": "code",
   "execution_count": 17,
   "metadata": {},
   "outputs": [],
   "source": [
    "# Import class files\n",
    "\n",
    "import sys\n",
    "import os\n",
    "parent_dir = os.path.abspath(os.path.join(os.getcwd(), os.pardir))\n",
    "sys.path.append(parent_dir)"
   ]
  },
  {
   "cell_type": "code",
   "execution_count": 18,
   "metadata": {},
   "outputs": [],
   "source": [
    "from classes.grid import Grid\n",
    "from queue import PriorityQueue\n",
    "from tqdm import tqdm\n",
    "import math\n",
    "\n",
    "example = open('example.txt', 'r').read()\n",
    "puzzle = open('puzzle.txt', 'r').read()\n",
    "\n",
    "input = puzzle"
   ]
  },
  {
   "cell_type": "markdown",
   "metadata": {},
   "source": [
    "# Part 1"
   ]
  },
  {
   "cell_type": "code",
   "execution_count": 19,
   "metadata": {},
   "outputs": [],
   "source": [
    "class RaceGrid(Grid):\n",
    "    def __init__(self, grid):\n",
    "        super().__init__(grid)\n",
    "        self.start_pos = self.get_tiles('S').pop()\n",
    "        self.end_pos = self.get_tiles('E').pop()\n",
    "        self.walls = self.get_tiles('#')\n",
    "    \n",
    "    def find_distances(self):\n",
    "        '''\n",
    "        Uses Dijkstra's to find all of the paths via cheating that save (exactly)\n",
    "        'timesave' picoseconds from the baseline 'shortest_path_no_cheats'\n",
    "        '''\n",
    "\n",
    "        seen = set()\n",
    "\n",
    "        best_cheats = 0\n",
    "\n",
    "        distances = {}\n",
    "        prev_node = {}\n",
    "\n",
    "        # Nodes are (tile, tile that we cheated on, direction that we cheated)\n",
    "\n",
    "        nodes_to_visit = PriorityQueue()\n",
    "\n",
    "        init_tiles = self.get_tiles('.').union(self.get_tiles('E').union(self.get_tiles('S')))\n",
    "\n",
    "        # Need to get all cheats possible - cheats uniquely identified by start and dir\n",
    "\n",
    "        for tile in init_tiles:\n",
    "            distances[(tile)] = math.inf\n",
    "            prev_node[(tile)] = None\n",
    "            nodes_to_visit.put((math.inf, (tile)))\n",
    "\n",
    "        nodes_to_visit.put((0, (self.start_pos)))\n",
    "        distances[(self.start_pos)] = 0\n",
    "        \n",
    "        #print(distances, prev_node)\n",
    "        \n",
    "        while nodes_to_visit.qsize() > 0:\n",
    "            cur_node = nodes_to_visit.get()\n",
    "            cur_node_cost = cur_node[0]\n",
    "            cur_node_coords = cur_node[1]\n",
    "\n",
    "            # Find neighbours\n",
    "            neighbours = set()\n",
    "\n",
    "            for dir in ['^','v','<','>']:\n",
    "                adj_1 = self.get_relative(cur_node_coords[0],cur_node_coords[1], dir)\n",
    "                if adj_1[2] in ['.','E'] and adj_1[0] != -1:\n",
    "                    neighbours.add((adj_1[0], adj_1[1]))\n",
    "            \n",
    "            for neighbour in neighbours:\n",
    "                neighbour_cheated = neighbour[1]\n",
    "\n",
    "                # It costs 2 picoseconds when cheating instead of 1\n",
    "                edge_cost = 1\n",
    "\n",
    "                # Cost to get to new node\n",
    "                neighbour_cost = cur_node_cost + edge_cost\n",
    "\n",
    "                if neighbour_cost < distances[neighbour]:\n",
    "                    prev_node[neighbour] = cur_node\n",
    "                    distances[neighbour] = neighbour_cost\n",
    "                    nodes_to_visit.put((neighbour_cost, neighbour))\n",
    "\n",
    "\n",
    "        self.distances = distances\n",
    "        return distances, prev_node, best_cheats\n",
    "    \n",
    "    def find_timesaves(self, min_timesave):\n",
    "        '''\n",
    "        Finds all of the ways we can get a timesave that has at least min_timesaves picoseconds from original\n",
    "        '''\n",
    "        num_timesaves = 0\n",
    "\n",
    "        # Loop through passable tiles and check the available cheats and if there is a timesave\n",
    "        for tile in self.get_tiles('S').union(self.get_tiles('.')):\n",
    "            for dir in ['^','<','>','v']:\n",
    "                one_step = self.get_relative(tile[0],tile[1],dir)\n",
    "                two_steps = self.get_relative(tile[0],tile[1],dir,step=2)\n",
    "                if one_step[2] == '#' and two_steps[2] in ['.','E'] and two_steps[0] != -1:\n",
    "                    orig_dist = self.distances[(two_steps[0],two_steps[1])]\n",
    "                    cheated_dist = self.distances[tile] + 2\n",
    "                    if orig_dist-cheated_dist >= min_timesave and cheated_dist < orig_dist:\n",
    "                        #print(tile, two_steps, orig_dist, cheated_dist)\n",
    "                        num_timesaves += 1\n",
    "        \n",
    "        return num_timesaves\n"
   ]
  },
  {
   "cell_type": "code",
   "execution_count": 20,
   "metadata": {},
   "outputs": [
    {
     "data": {
      "text/plain": [
       "1445"
      ]
     },
     "execution_count": 20,
     "metadata": {},
     "output_type": "execute_result"
    }
   ],
   "source": [
    "race_grid_map = input.split('\\n')\n",
    "\n",
    "race_grid = RaceGrid(race_grid_map)\n",
    "#race_grid.print_grid()\n",
    "\n",
    "# Use A* to get the shortest path without any cheating \n",
    "dij_info = race_grid.find_distances()\n",
    "race_grid.find_timesaves(100)"
   ]
  },
  {
   "cell_type": "markdown",
   "metadata": {},
   "source": [
    "# Part 2"
   ]
  },
  {
   "cell_type": "code",
   "execution_count": 21,
   "metadata": {},
   "outputs": [],
   "source": [
    "class RaceGrid(Grid):\n",
    "    def __init__(self, grid):\n",
    "        super().__init__(grid)\n",
    "        self.start_pos = self.get_tiles('S').pop()\n",
    "        self.end_pos = self.get_tiles('E').pop()\n",
    "        self.walls = self.get_tiles('#')\n",
    "    \n",
    "    def find_distances(self):\n",
    "        '''\n",
    "        Uses Dijkstra's to find all of the paths via cheating that save (exactly)\n",
    "        'timesave' picoseconds from the baseline 'shortest_path_no_cheats'\n",
    "        '''\n",
    "\n",
    "        seen = set()\n",
    "\n",
    "        best_cheats = 0\n",
    "\n",
    "        distances = {}\n",
    "        prev_node = {}\n",
    "\n",
    "        # Nodes are (tile, tile that we cheated on, direction that we cheated)\n",
    "\n",
    "        nodes_to_visit = PriorityQueue()\n",
    "\n",
    "        init_tiles = self.get_tiles('.').union(self.get_tiles('E').union(self.get_tiles('S')))\n",
    "\n",
    "        # Need to get all cheats possible - cheats uniquely identified by start and dir\n",
    "\n",
    "        for tile in init_tiles:\n",
    "            distances[(tile)] = math.inf\n",
    "            prev_node[(tile)] = None\n",
    "            nodes_to_visit.put((math.inf, (tile)))\n",
    "\n",
    "        nodes_to_visit.put((0, (self.start_pos)))\n",
    "        distances[(self.start_pos)] = 0\n",
    "        \n",
    "        #print(distances, prev_node)\n",
    "        \n",
    "        while nodes_to_visit.qsize() > 0:\n",
    "            cur_node = nodes_to_visit.get()\n",
    "            cur_node_cost = cur_node[0]\n",
    "            cur_node_coords = cur_node[1]\n",
    "\n",
    "            # Find neighbours\n",
    "            neighbours = set()\n",
    "\n",
    "            for dir in ['^','v','<','>']:\n",
    "                adj_1 = self.get_relative(cur_node_coords[0],cur_node_coords[1], dir)\n",
    "                if adj_1[2] in ['.','E'] and adj_1[0] != -1:\n",
    "                    neighbours.add((adj_1[0], adj_1[1]))\n",
    "            \n",
    "            for neighbour in neighbours:\n",
    "                neighbour_cheated = neighbour[1]\n",
    "\n",
    "                # It costs 2 picoseconds when cheating instead of 1\n",
    "                edge_cost = 1\n",
    "\n",
    "                # Cost to get to new node\n",
    "                neighbour_cost = cur_node_cost + edge_cost\n",
    "\n",
    "                if neighbour_cost < distances[neighbour]:\n",
    "                    prev_node[neighbour] = cur_node\n",
    "                    distances[neighbour] = neighbour_cost\n",
    "                    nodes_to_visit.put((neighbour_cost, neighbour))\n",
    "\n",
    "\n",
    "        self.distances = distances\n",
    "        return distances, prev_node, best_cheats\n",
    "    \n",
    "    def find_timesaves(self, min_timesave):\n",
    "        '''\n",
    "        Finds all of the ways we can get a timesave that has at least min_timesaves picoseconds from original\n",
    "        '''\n",
    "        num_timesaves = 0\n",
    "\n",
    "        # Loop through passable tiles and check the available cheats and if there is a timesave\n",
    "        for tile in tqdm(self.get_tiles('S').union(self.get_tiles('.'))):\n",
    "            for dest_tile in self.get_tiles('.').union(self.get_tiles('E')):\n",
    "                dist = abs(tile[0] - dest_tile[0]) + abs(tile[1] - dest_tile[1])\n",
    "\n",
    "                # Cheat too long or cheat is actually just following the path?\n",
    "                if dist > 20 or self.distances[tile]+dist == self.distances[dest_tile]:\n",
    "                    continue\n",
    "\n",
    "                orig_dist = self.distances[dest_tile]\n",
    "                cheated_dist = self.distances[tile]+dist\n",
    "\n",
    "                if orig_dist-cheated_dist >= min_timesave and cheated_dist < orig_dist:\n",
    "                    #print(tile, two_steps, orig_dist, cheated_dist)\n",
    "                    num_timesaves += 1\n",
    "        \n",
    "        return num_timesaves\n"
   ]
  },
  {
   "cell_type": "code",
   "execution_count": 22,
   "metadata": {},
   "outputs": [
    {
     "name": "stderr",
     "output_type": "stream",
     "text": [
      "100%|██████████| 9432/9432 [00:52<00:00, 178.70it/s]\n"
     ]
    },
    {
     "data": {
      "text/plain": [
       "1008040"
      ]
     },
     "execution_count": 22,
     "metadata": {},
     "output_type": "execute_result"
    }
   ],
   "source": [
    "race_grid_map = input.split('\\n')\n",
    "\n",
    "race_grid = RaceGrid(race_grid_map)\n",
    "#race_grid.print_grid()\n",
    "\n",
    "# Use A* to get the shortest path without any cheating \n",
    "dij_info = race_grid.find_distances()\n",
    "race_grid.find_timesaves(100)"
   ]
  },
  {
   "cell_type": "code",
   "execution_count": null,
   "metadata": {},
   "outputs": [],
   "source": []
  }
 ],
 "metadata": {
  "kernelspec": {
   "display_name": "Python 3",
   "language": "python",
   "name": "python3"
  },
  "language_info": {
   "codemirror_mode": {
    "name": "ipython",
    "version": 3
   },
   "file_extension": ".py",
   "mimetype": "text/x-python",
   "name": "python",
   "nbconvert_exporter": "python",
   "pygments_lexer": "ipython3",
   "version": "3.13.1"
  }
 },
 "nbformat": 4,
 "nbformat_minor": 2
}
