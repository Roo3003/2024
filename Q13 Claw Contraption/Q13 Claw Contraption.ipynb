{
 "cells": [
  {
   "cell_type": "code",
   "execution_count": 52,
   "metadata": {},
   "outputs": [],
   "source": [
    "# Import class files\n",
    "\n",
    "import sys\n",
    "import os\n",
    "parent_dir = os.path.abspath(os.path.join(os.getcwd(), os.pardir))\n",
    "sys.path.append(parent_dir)"
   ]
  },
  {
   "cell_type": "code",
   "execution_count": 53,
   "metadata": {},
   "outputs": [],
   "source": [
    "example = open('example.txt', 'r').read()\n",
    "puzzle = open('puzzle.txt', 'r').read()\n",
    "\n",
    "input = puzzle"
   ]
  },
  {
   "cell_type": "markdown",
   "metadata": {},
   "source": [
    "# Part 1"
   ]
  },
  {
   "cell_type": "markdown",
   "metadata": {},
   "source": [
    "Maths degree to the rescue..."
   ]
  },
  {
   "cell_type": "code",
   "execution_count": 54,
   "metadata": {},
   "outputs": [
    {
     "name": "stdout",
     "output_type": "stream",
     "text": [
      "37901\n"
     ]
    }
   ],
   "source": [
    "import re\n",
    "import numpy as np\n",
    "\n",
    "machine_behaviour = input.split('\\n\\n')\n",
    "\n",
    "total = 0\n",
    "\n",
    "for claw_machine in machine_behaviour:\n",
    "    # Extract info\n",
    "    button_a_x = int(re.findall(r'A: X\\+(\\d*)', claw_machine)[0])\n",
    "    button_a_y = int(re.findall(r'Y\\+(\\d*)\\nB', claw_machine)[0])\n",
    "    button_b_x = int(re.findall(r'B: X\\+(\\d*)', claw_machine)[0])\n",
    "    button_b_y = int(re.findall(r'B: X\\+\\d*, Y\\+(\\d*)', claw_machine)[0])\n",
    "    button_a_prize = int(re.findall(r'X=(\\d*)', claw_machine)[0])\n",
    "    button_b_prize = int(re.findall(r'Y=(\\d*)', claw_machine)[0])\n",
    "\n",
    "    eqs_matrix = np.array([[button_a_x,button_b_x],[button_a_y,button_b_y]])\n",
    "    prize_matrix = np.array([button_a_prize,button_b_prize])\n",
    "\n",
    "    button_presses = np.linalg.solve(eqs_matrix,prize_matrix)\n",
    "\n",
    "    # Handle floating point rounding errors\n",
    "    a_presses = round(button_presses[0],10)\n",
    "    b_presses = round(button_presses[1],10)\n",
    "\n",
    "    #print(a_presses.is_integer() and b_presses.is_integer())\n",
    "    #print(a_presses,b_presses)\n",
    "\n",
    "    # Check for integrality and discard solutions where one number was >100\n",
    "    if a_presses.is_integer() and b_presses.is_integer():\n",
    "        total += 3*int(a_presses) + int(b_presses)\n",
    "\n",
    "\n",
    "print(total)\n"
   ]
  },
  {
   "cell_type": "markdown",
   "metadata": {},
   "source": [
    "# Part 2"
   ]
  },
  {
   "cell_type": "code",
   "execution_count": 56,
   "metadata": {},
   "outputs": [
    {
     "name": "stdout",
     "output_type": "stream",
     "text": [
      "77407675412647\n"
     ]
    }
   ],
   "source": [
    "import re\n",
    "import numpy as np\n",
    "\n",
    "machine_behaviour = input.split('\\n\\n')\n",
    "\n",
    "total = 0\n",
    "\n",
    "for claw_machine in machine_behaviour:\n",
    "    # Extract info\n",
    "    button_a_x = int(re.findall(r'A: X\\+(\\d*)', claw_machine)[0])\n",
    "    button_a_y = int(re.findall(r'Y\\+(\\d*)\\nB', claw_machine)[0])\n",
    "    button_b_x = int(re.findall(r'B: X\\+(\\d*)', claw_machine)[0])\n",
    "    button_b_y = int(re.findall(r'B: X\\+\\d*, Y\\+(\\d*)', claw_machine)[0])\n",
    "    button_a_prize = int(re.findall(r'X=(\\d*)', claw_machine)[0]) + 10000000000000\n",
    "    button_b_prize = int(re.findall(r'Y=(\\d*)', claw_machine)[0]) + 10000000000000\n",
    "\n",
    "    eqs_matrix = np.array([[button_a_x,button_b_x],[button_a_y,button_b_y]])\n",
    "    prize_matrix = np.array([button_a_prize,button_b_prize])\n",
    "\n",
    "    button_presses = np.linalg.solve(eqs_matrix,prize_matrix)\n",
    "\n",
    "    # Handle floating point rounding errors\n",
    "\n",
    "    # Part 2 edits - need to reduce the conservatism on these to account for larger numbers\n",
    "    a_presses = round(button_presses[0],3)\n",
    "    b_presses = round(button_presses[1],3)\n",
    "\n",
    "    #print(a_presses.is_integer() and b_presses.is_integer())\n",
    "    #print(a_presses,b_presses)\n",
    "\n",
    "    # Check for integrality and discard solutions where one number was >100\n",
    "    if a_presses.is_integer() and b_presses.is_integer():\n",
    "        total += 3*int(a_presses) + int(b_presses)\n",
    "\n",
    "\n",
    "print(total)\n"
   ]
  }
 ],
 "metadata": {
  "kernelspec": {
   "display_name": "Python 3",
   "language": "python",
   "name": "python3"
  },
  "language_info": {
   "codemirror_mode": {
    "name": "ipython",
    "version": 3
   },
   "file_extension": ".py",
   "mimetype": "text/x-python",
   "name": "python",
   "nbconvert_exporter": "python",
   "pygments_lexer": "ipython3",
   "version": "3.13.0"
  }
 },
 "nbformat": 4,
 "nbformat_minor": 2
}
