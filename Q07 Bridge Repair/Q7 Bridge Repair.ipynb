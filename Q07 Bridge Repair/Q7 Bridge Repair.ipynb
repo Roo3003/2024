{
 "cells": [
  {
   "cell_type": "markdown",
   "metadata": {},
   "source": [
    "# Part 1"
   ]
  },
  {
   "cell_type": "code",
   "execution_count": 107,
   "metadata": {},
   "outputs": [],
   "source": [
    "example = open('example.txt', 'r').read()\n",
    "puzzle = open('puzzle.txt', 'r').read()\n",
    "\n",
    "input = puzzle"
   ]
  },
  {
   "cell_type": "code",
   "execution_count": 108,
   "metadata": {},
   "outputs": [],
   "source": [
    "def is_equal(target, nums, operations):\n",
    "    '''\n",
    "    - target: int\n",
    "    - nums: list(int)\n",
    "    - operations - list(str) where strings are either '+' or '*'\n",
    "\n",
    "    Returns True if target is calculated by nums with the respective operations in the order they are provided and False otherwise\n",
    "    '''\n",
    "\n",
    "    cur_val = nums[0]\n",
    "    for i in range(1,len(nums)):\n",
    "        #print(cur_val, nums[i], operations[i-1])\n",
    "        match operations[i-1]:\n",
    "            case '+':\n",
    "                cur_val += nums[i]\n",
    "            case '*':\n",
    "                cur_val *= nums[i]\n",
    "    \n",
    "    #print(nums, operations)\n",
    "\n",
    "    if cur_val == target:\n",
    "        return True\n",
    "    return False\n",
    "\n",
    "\n",
    "def can_calculate(target, nums, operations=[]):\n",
    "    '''\n",
    "    Recursive Algorithm\n",
    "\n",
    "    Determines whether target can be calculated by placing + and * in some possible order between the numbers in nums\n",
    "    Returns True if possible and False if not\n",
    "\n",
    "    target: int - target number to calculate\n",
    "    nums: list(int) - numbers used to calculate target\n",
    "    operations: list(str) where strings are '+' or '*' in respective order of spaces between numbers\n",
    "    '''\n",
    "\n",
    "    num_operations = len(nums)-1\n",
    "    \n",
    "    if len(operations) < num_operations:\n",
    "        add = can_calculate(target, nums, operations=operations+['+'])\n",
    "        multiply = can_calculate(target, nums, operations=operations+['*'])\n",
    "\n",
    "        if add or multiply:\n",
    "            return True\n",
    "    elif is_equal(target,nums,operations):\n",
    "        return True\n",
    "    \n",
    "    return False"
   ]
  },
  {
   "cell_type": "code",
   "execution_count": 109,
   "metadata": {},
   "outputs": [
    {
     "data": {
      "text/plain": [
       "1620690235709"
      ]
     },
     "execution_count": 109,
     "metadata": {},
     "output_type": "execute_result"
    }
   ],
   "source": [
    "calibration_equations = input.split('\\n')\n",
    "calibration_equations\n",
    "\n",
    "\n",
    "count = 0\n",
    "\n",
    "# Extract test values and numbers to be used in equation calculation\n",
    "for eq in calibration_equations:\n",
    "    test_val = int(eq.split(':')[0])\n",
    "    nums = [int(x) for x in eq.split(':')[1].split(' ')[1:]]\n",
    "    #print(test_val, nums)\n",
    "    if can_calculate(test_val, nums):\n",
    "        count += test_val\n",
    "    #print('\\n')\n",
    "\n",
    "count"
   ]
  },
  {
   "cell_type": "markdown",
   "metadata": {},
   "source": [
    "# Part 2"
   ]
  },
  {
   "cell_type": "code",
   "execution_count": 102,
   "metadata": {},
   "outputs": [],
   "source": [
    "input = puzzle"
   ]
  },
  {
   "cell_type": "code",
   "execution_count": 105,
   "metadata": {},
   "outputs": [],
   "source": [
    "def is_equal(target, nums, operations):\n",
    "    '''\n",
    "    - target: int\n",
    "    - nums: list(int)\n",
    "    - operations - list(str) where strings are either '+', '*' or '||'\n",
    "\n",
    "    Returns True if target is calculated by nums with the respective operations in the order they are provided and False otherwise\n",
    "    '''\n",
    "\n",
    "    cur_val = nums[0]\n",
    "    for i in range(1,len(nums)):\n",
    "        #print(cur_val, nums[i], operations[i-1])\n",
    "        match operations[i-1]:\n",
    "            case '+':\n",
    "                cur_val += nums[i]\n",
    "            case '*':\n",
    "                cur_val *= nums[i]\n",
    "            case '||':\n",
    "                cur_val = int(str(cur_val) + str(nums[i]))\n",
    "    \n",
    "    #print(nums, operations)\n",
    "\n",
    "    if cur_val == target:\n",
    "        return True\n",
    "    return False\n",
    "\n",
    "\n",
    "def can_calculate(target, nums, operations=[]):\n",
    "    '''\n",
    "    Recursive Algorithm\n",
    "\n",
    "    Determines whether target can be calculated by placing + and * in some possible order between the numbers in nums\n",
    "    Returns True if possible and False if not\n",
    "\n",
    "    target: int - target number to calculate\n",
    "    nums: list(int) - numbers used to calculate target\n",
    "    operations: list(str) where strings are '+' or '*' in respective order of spaces between numbers\n",
    "    visited - set of states we have visited (a state is a unique list defined by 'operations', e.g. ['+', '*', '+'])\n",
    "    '''\n",
    "\n",
    "    num_operations = len(nums)-1\n",
    "    \n",
    "    if len(operations) < num_operations:\n",
    "        add = can_calculate(target, nums, operations=operations+['+'])\n",
    "        multiply = can_calculate(target, nums, operations=operations+['*'])\n",
    "        concat = can_calculate(target, nums, operations=operations+['||'])\n",
    "\n",
    "        if add or multiply or concat:\n",
    "            return True\n",
    "    elif is_equal(target,nums,operations):\n",
    "        return True\n",
    "    \n",
    "    return False"
   ]
  },
  {
   "cell_type": "code",
   "execution_count": 106,
   "metadata": {},
   "outputs": [
    {
     "name": "stderr",
     "output_type": "stream",
     "text": [
      "100%|██████████| 850/850 [00:35<00:00, 23.67it/s]\n"
     ]
    },
    {
     "data": {
      "text/plain": [
       "145397611075341"
      ]
     },
     "execution_count": 106,
     "metadata": {},
     "output_type": "execute_result"
    }
   ],
   "source": [
    "from tqdm import tqdm\n",
    "\n",
    "calibration_equations = input.split('\\n')\n",
    "calibration_equations\n",
    "\n",
    "\n",
    "count = 0\n",
    "\n",
    "# Extract test values and numbers to be used in equation calculation\n",
    "for eq in tqdm(calibration_equations):\n",
    "    test_val = int(eq.split(':')[0])\n",
    "    nums = [int(x) for x in eq.split(':')[1].split(' ')[1:]]\n",
    "    #print(test_val, nums)\n",
    "    if can_calculate(test_val, nums):\n",
    "        count += test_val\n",
    "    #print('\\n')\n",
    "\n",
    "count"
   ]
  },
  {
   "cell_type": "code",
   "execution_count": null,
   "metadata": {},
   "outputs": [],
   "source": []
  }
 ],
 "metadata": {
  "kernelspec": {
   "display_name": "Python 3",
   "language": "python",
   "name": "python3"
  },
  "language_info": {
   "codemirror_mode": {
    "name": "ipython",
    "version": 3
   },
   "file_extension": ".py",
   "mimetype": "text/x-python",
   "name": "python",
   "nbconvert_exporter": "python",
   "pygments_lexer": "ipython3",
   "version": "3.13.0"
  }
 },
 "nbformat": 4,
 "nbformat_minor": 2
}
