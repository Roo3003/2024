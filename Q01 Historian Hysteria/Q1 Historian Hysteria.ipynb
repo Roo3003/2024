{
 "cells": [
  {
   "cell_type": "markdown",
   "metadata": {},
   "source": [
    "# Part 1"
   ]
  },
  {
   "cell_type": "code",
   "execution_count": 2,
   "metadata": {},
   "outputs": [],
   "source": [
    "example = open('example.txt', 'r').read()\n",
    "puzzle = open('puzzle.txt', 'r').read()"
   ]
  },
  {
   "cell_type": "code",
   "execution_count": 3,
   "metadata": {},
   "outputs": [],
   "source": [
    "input = puzzle\n",
    "input = input.split('\\n')\n",
    "#input"
   ]
  },
  {
   "cell_type": "code",
   "execution_count": 4,
   "metadata": {},
   "outputs": [],
   "source": [
    "left_nums = []\n",
    "right_nums = []\n",
    "\n",
    "for pair in input:\n",
    "    nums = pair.split('   ')\n",
    "    left_num = nums[0]\n",
    "    right_num = nums[1]\n",
    "    left_nums.append(left_num)\n",
    "    right_nums.append(right_num)\n",
    "\n",
    "#left_nums, right_nums"
   ]
  },
  {
   "cell_type": "code",
   "execution_count": 5,
   "metadata": {},
   "outputs": [],
   "source": [
    "sorted_left_nums = sorted(left_nums)\n",
    "sorted_right_nums = sorted(right_nums)"
   ]
  },
  {
   "cell_type": "code",
   "execution_count": 6,
   "metadata": {},
   "outputs": [],
   "source": [
    "n = len(sorted_left_nums)\n",
    "\n",
    "diffs = []\n",
    "\n",
    "for i in range(n):\n",
    "    left = sorted_left_nums[i]\n",
    "    right = sorted_right_nums[i]\n",
    "\n",
    "    diff = abs(int(left)-int(right))\n",
    "    diffs.append(diff)\n",
    "\n",
    "#diffs"
   ]
  },
  {
   "cell_type": "code",
   "execution_count": 7,
   "metadata": {},
   "outputs": [
    {
     "data": {
      "text/plain": [
       "1651298"
      ]
     },
     "execution_count": 7,
     "metadata": {},
     "output_type": "execute_result"
    }
   ],
   "source": [
    "sum(diffs)"
   ]
  },
  {
   "cell_type": "markdown",
   "metadata": {},
   "source": [
    "# Part 2"
   ]
  },
  {
   "cell_type": "code",
   "execution_count": 8,
   "metadata": {},
   "outputs": [],
   "source": [
    "# Create dict to find number of occurences in right list\n",
    "\n",
    "right_occurs = {}\n",
    "\n",
    "for left in sorted_left_nums:\n",
    "    if left in right_occurs:\n",
    "        continue\n",
    "    else:\n",
    "        right_occurs[left] = sorted_right_nums.count(left)\n",
    "\n",
    "#right_occurs"
   ]
  },
  {
   "cell_type": "code",
   "execution_count": 9,
   "metadata": {},
   "outputs": [],
   "source": [
    "count = 0\n",
    "\n",
    "for left in sorted_left_nums:\n",
    "    count += int(left)*right_occurs[left]"
   ]
  },
  {
   "cell_type": "code",
   "execution_count": 10,
   "metadata": {},
   "outputs": [
    {
     "data": {
      "text/plain": [
       "21306195"
      ]
     },
     "execution_count": 10,
     "metadata": {},
     "output_type": "execute_result"
    }
   ],
   "source": [
    "count"
   ]
  },
  {
   "cell_type": "code",
   "execution_count": null,
   "metadata": {},
   "outputs": [],
   "source": []
  }
 ],
 "metadata": {
  "kernelspec": {
   "display_name": "Python 3",
   "language": "python",
   "name": "python3"
  },
  "language_info": {
   "codemirror_mode": {
    "name": "ipython",
    "version": 3
   },
   "file_extension": ".py",
   "mimetype": "text/x-python",
   "name": "python",
   "nbconvert_exporter": "python",
   "pygments_lexer": "ipython3",
   "version": "3.13.0"
  }
 },
 "nbformat": 4,
 "nbformat_minor": 2
}
