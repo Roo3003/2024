{
 "cells": [
  {
   "cell_type": "code",
   "execution_count": 11,
   "metadata": {},
   "outputs": [],
   "source": [
    "# Import class files\n",
    "\n",
    "import sys\n",
    "import os\n",
    "parent_dir = os.path.abspath(os.path.join(os.getcwd(), os.pardir))\n",
    "sys.path.append(parent_dir)\n",
    "\n",
    "from classes.grid import Grid"
   ]
  },
  {
   "cell_type": "code",
   "execution_count": 19,
   "metadata": {},
   "outputs": [],
   "source": [
    "example = open('example.txt', 'r').read()\n",
    "puzzle = open('puzzle.txt', 'r').read()\n",
    "test = open('test.txt', 'r').read()\n",
    "\n",
    "input = puzzle"
   ]
  },
  {
   "cell_type": "markdown",
   "metadata": {},
   "source": [
    "# Part 1"
   ]
  },
  {
   "cell_type": "code",
   "execution_count": 20,
   "metadata": {},
   "outputs": [],
   "source": [
    "# Inherit from grid class\n",
    "class Topographic_Map(Grid):\n",
    "    def __init__(self, grid):\n",
    "        super().__init__(grid)\n",
    "\n",
    "    def score_trailhead(self, row, col, cur_val=0, trails_found=0, ends_reached=set()):\n",
    "        '''\n",
    "        Given a trailhead, returns the score of that trailhead. Recall the score of a trailhead is\n",
    "        the number of unique paths going from the 0 origin -> 9, incrementing +1 each step.\n",
    "        row, col: row col coords of trailhead to be scored\n",
    "        other inputs are optional parameters used in recursion, not to be used when calling the function outside of this method\n",
    "        Output: int - score of given trailhead\n",
    "        '''\n",
    "        #print(int(cur_val))\n",
    "\n",
    "        # Reset the sets that we have visited if we are looking at a new starting position\n",
    "        if cur_val == 0:\n",
    "            ends_reached = set()\n",
    "\n",
    "        # If at the end of a trail (i.e. at a 9), check that we haven't visited it before. If not, add one to the trailhead's score \n",
    "        # and mark this 9 as having being visited\n",
    "        if int(cur_val) == 9 and not (row,col) in ends_reached:\n",
    "            #print(f'reached a 9 at {(row,col)}. Visited 9s={ends_reached}')\n",
    "            trails_found += 1\n",
    "            ends_reached.add((row,col))\n",
    "            return trails_found\n",
    "        \n",
    "        # For each step in a trail, where would we get if we took a step in each direction?\n",
    "        for dir in ['up','down','left','right']:\n",
    "            next_row, next_col, next_val = self.get_relative(row,col,dir,1,False)\n",
    "\n",
    "            # Out-of-bounds error handling (error code '.' returned by get_relative method)\n",
    "            if next_val == '.':\n",
    "                continue\n",
    "            \n",
    "            #print(f'currently at {cur_val} at coords ({row},{col}). {dir}={next_val}. count={trails_found}')\n",
    "\n",
    "            # If next step is +1 from current, repeat procedure at the next location\n",
    "            if int(next_val) == int(cur_val) + 1:\n",
    "                trails_found = self.score_trailhead(next_row, next_col, cur_val=next_val, trails_found=trails_found, ends_reached=ends_reached)\n",
    "        \n",
    "        return trails_found\n",
    "    \n",
    "    def score_all_trailheads(self):\n",
    "        '''\n",
    "        Finds and scores all of the trailheads in the grid, and returns the sum of these\n",
    "        '''\n",
    "        trailheads = self.get_tiles('0')\n",
    "        \n",
    "        total_score = 0\n",
    "        for th in trailheads:\n",
    "            total_score += self.score_trailhead(th[0],th[1])\n",
    "\n",
    "        return total_score\n",
    "\n",
    "\n",
    "    \n"
   ]
  },
  {
   "cell_type": "code",
   "execution_count": 21,
   "metadata": {},
   "outputs": [
    {
     "data": {
      "text/plain": [
       "744"
      ]
     },
     "execution_count": 21,
     "metadata": {},
     "output_type": "execute_result"
    }
   ],
   "source": [
    "map_input = input.split('\\n')\n",
    "\n",
    "map = Topographic_Map(map_input)\n",
    "\n",
    "#map.print_grid()\n",
    "map.score_all_trailheads()\n"
   ]
  },
  {
   "cell_type": "markdown",
   "metadata": {},
   "source": [
    "# Part 2"
   ]
  },
  {
   "cell_type": "code",
   "execution_count": 22,
   "metadata": {},
   "outputs": [],
   "source": [
    "# Inherit from grid class\n",
    "class Topographic_Map(Grid):\n",
    "    def __init__(self, grid):\n",
    "        super().__init__(grid)\n",
    "\n",
    "    def trailhead_rating(self, row, col, cur_val=0, trails_found=0, ends_reached=set()):\n",
    "        '''\n",
    "        Essentially the same as part 1, but with the distinct 9 condition removed.\n",
    "        '''\n",
    "        #print(int(cur_val))\n",
    "\n",
    "        # Reset the sets that we have visited if we are looking at a new starting position\n",
    "        if cur_val == 0:\n",
    "            ends_reached = set()\n",
    "\n",
    "        # This is the only line that changes for part 2 (removed distinct 9 condition) - yay for efficient code!\n",
    "        if int(cur_val) == 9:\n",
    "            #print(f'reached a 9 at {(row,col)}. Visited 9s={ends_reached}')\n",
    "            trails_found += 1\n",
    "            ends_reached.add((row,col))\n",
    "            return trails_found\n",
    "        \n",
    "        # For each step in a trail, where would we get if we took a step in each direction?\n",
    "        for dir in ['up','down','left','right']:\n",
    "            next_row, next_col, next_val = self.get_relative(row,col,dir,1,False)\n",
    "\n",
    "            # Out-of-bounds error handling (error code '.' returned by get_relative method)\n",
    "            if next_val == '.':\n",
    "                continue\n",
    "            \n",
    "            #print(f'currently at {cur_val} at coords ({row},{col}). {dir}={next_val}. count={trails_found}')\n",
    "\n",
    "            # If next step is +1 from current, repeat procedure at the next location\n",
    "            if int(next_val) == int(cur_val) + 1:\n",
    "                trails_found = self.trailhead_rating(next_row, next_col, cur_val=next_val, trails_found=trails_found, ends_reached=ends_reached)\n",
    "        \n",
    "        return trails_found\n",
    "    \n",
    "    def all_trailheads_rating(self):\n",
    "        '''\n",
    "        Finds and ratingss all of the trailheads in the grid, and returns the sum of these\n",
    "        '''\n",
    "        trailheads = self.get_tiles('0')\n",
    "        \n",
    "        total_rating = 0\n",
    "        for th in trailheads:\n",
    "            total_rating += self.trailhead_rating(th[0],th[1])\n",
    "\n",
    "        return total_rating\n",
    "\n",
    "\n",
    "    \n"
   ]
  },
  {
   "cell_type": "code",
   "execution_count": 23,
   "metadata": {},
   "outputs": [
    {
     "data": {
      "text/plain": [
       "1651"
      ]
     },
     "execution_count": 23,
     "metadata": {},
     "output_type": "execute_result"
    }
   ],
   "source": [
    "map_input = input.split('\\n')\n",
    "\n",
    "map = Topographic_Map(map_input)\n",
    "\n",
    "#map.print_grid()\n",
    "map.all_trailheads_rating()"
   ]
  },
  {
   "cell_type": "code",
   "execution_count": null,
   "metadata": {},
   "outputs": [],
   "source": []
  },
  {
   "cell_type": "code",
   "execution_count": null,
   "metadata": {},
   "outputs": [],
   "source": []
  },
  {
   "cell_type": "code",
   "execution_count": null,
   "metadata": {},
   "outputs": [],
   "source": []
  }
 ],
 "metadata": {
  "kernelspec": {
   "display_name": "Python 3",
   "language": "python",
   "name": "python3"
  },
  "language_info": {
   "codemirror_mode": {
    "name": "ipython",
    "version": 3
   },
   "file_extension": ".py",
   "mimetype": "text/x-python",
   "name": "python",
   "nbconvert_exporter": "python",
   "pygments_lexer": "ipython3",
   "version": "3.13.0"
  }
 },
 "nbformat": 4,
 "nbformat_minor": 2
}
